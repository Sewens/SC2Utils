{
 "cells": [
  {
   "cell_type": "code",
   "execution_count": 1,
   "id": "859f5094-bd44-4bae-be6f-871cd0f2423e",
   "metadata": {
    "execution": {
     "iopub.execute_input": "2025-08-10T16:06:21.934212Z",
     "iopub.status.busy": "2025-08-10T16:06:21.933210Z",
     "iopub.status.idle": "2025-08-10T16:06:22.208227Z",
     "shell.execute_reply": "2025-08-10T16:06:22.208227Z",
     "shell.execute_reply.started": "2025-08-10T16:06:21.934212Z"
    }
   },
   "outputs": [],
   "source": [
    "import os\n",
    "import json\n",
    "import requests\n",
    "import random"
   ]
  },
  {
   "cell_type": "code",
   "execution_count": 3,
   "id": "529e40d5-a12b-4e17-8691-125354b098d7",
   "metadata": {
    "execution": {
     "iopub.execute_input": "2025-08-10T16:06:22.620544Z",
     "iopub.status.busy": "2025-08-10T16:06:22.620544Z",
     "iopub.status.idle": "2025-08-10T16:06:22.624680Z",
     "shell.execute_reply": "2025-08-10T16:06:22.623675Z",
     "shell.execute_reply.started": "2025-08-10T16:06:22.620544Z"
    }
   },
   "outputs": [],
   "source": [
    "import time"
   ]
  },
  {
   "cell_type": "code",
   "execution_count": 4,
   "id": "2fed38ff-0788-4dc8-95a6-7fde7851c50d",
   "metadata": {
    "execution": {
     "iopub.execute_input": "2025-08-10T16:06:22.625681Z",
     "iopub.status.busy": "2025-08-10T16:06:22.624680Z",
     "iopub.status.idle": "2025-08-10T16:06:22.638304Z",
     "shell.execute_reply": "2025-08-10T16:06:22.637737Z",
     "shell.execute_reply.started": "2025-08-10T16:06:22.625681Z"
    }
   },
   "outputs": [],
   "source": [
    "import os\n",
    "from dotenv import load_dotenv\n",
    "\n",
    "def configure_environment(dotenv_path: str = None) -> bool:\n",
    "    \"\"\"\n",
    "    从 .env 文件加载环境变量。\n",
    "\n",
    "    :param dotenv_path: .env 文件的路径。如果为 None，则从当前目录或父目录查找。\n",
    "    :return: 如果成功加载文件则返回 True，否则返回 False。\n",
    "    \"\"\"\n",
    "    # load_dotenv() 会查找 .env 文件并加载其内容到 os.environ\n",
    "    # 如果找到了文件并加载成功，它会返回 True\n",
    "    found = load_dotenv(dotenv_path)\n",
    "    if not found:\n",
    "        print(\"警告: 未找到 .env 文件。请确保该文件存在于项目根目录。\")\n",
    "    return found"
   ]
  },
  {
   "cell_type": "markdown",
   "id": "2bb3c61e-570d-4fa0-93e1-0def1cef88be",
   "metadata": {},
   "source": [
    "## 从本地的env文件中读取环境变量"
   ]
  },
  {
   "cell_type": "code",
   "execution_count": 8,
   "id": "68aed526-3e5e-48d4-bb84-6ad9ac49956e",
   "metadata": {
    "execution": {
     "iopub.execute_input": "2025-08-10T16:06:23.081458Z",
     "iopub.status.busy": "2025-08-10T16:06:23.081458Z",
     "iopub.status.idle": "2025-08-10T16:06:23.086951Z",
     "shell.execute_reply": "2025-08-10T16:06:23.086951Z",
     "shell.execute_reply.started": "2025-08-10T16:06:23.081458Z"
    }
   },
   "outputs": [
    {
     "data": {
      "text/plain": [
       "True"
      ]
     },
     "execution_count": 8,
     "metadata": {},
     "output_type": "execute_result"
    }
   ],
   "source": [
    "configure_environment()"
   ]
  },
  {
   "cell_type": "code",
   "execution_count": 10,
   "id": "f6c29c14-27ea-4bfe-a8da-19d60452bb22",
   "metadata": {
    "execution": {
     "iopub.execute_input": "2025-08-10T16:06:23.281889Z",
     "iopub.status.busy": "2025-08-10T16:06:23.281545Z",
     "iopub.status.idle": "2025-08-10T16:06:23.296763Z",
     "shell.execute_reply": "2025-08-10T16:06:23.296763Z",
     "shell.execute_reply.started": "2025-08-10T16:06:23.281889Z"
    }
   },
   "outputs": [],
   "source": [
    "class GeminiTranslator:\n",
    "    \"\"\"\n",
    "    一个用于与 Google Gemini API 进行单次调用翻译的封装类。\n",
    "    每次调用都是独立的，不维护对话历史。\n",
    "    支持代理和自定义安全设置。\n",
    "    \"\"\"\n",
    "    def __init__(self, api_key: str, model_name: str = \"gemini-1.5-flash-latest\", proxy: str = None):\n",
    "        \"\"\"\n",
    "        初始化翻译器。\n",
    "\n",
    "        :param api_key: 您的 Google Gemini API 密钥。\n",
    "        :param model_name: 要使用的模型名称。\n",
    "        :param proxy: (可选) 本地代理地址，例如 \"socks5h://127.0.0.1:1080\"。\n",
    "        \"\"\"\n",
    "        if not api_key:\n",
    "            raise ValueError(\"API key cannot be empty.\")\n",
    "        self.api_key = api_key\n",
    "        self.model_name = model_name\n",
    "        self.api_url = f\"https://generativelanguage.googleapis.com/v1beta/models/{model_name}:generateContent\"\n",
    "        \n",
    "        # 使用 Session 对象可以复用连接，提高性能\n",
    "        self.session = requests.Session()\n",
    "\n",
    "        if proxy:\n",
    "            proxies = {\"http\": proxy, \"https\": proxy}\n",
    "            self.session.proxies.update(proxies)\n",
    "            print(f\"--- [系统] 已配置代理: {proxy} ---\")\n",
    "\n",
    "        self.session.headers.update({\n",
    "            \"Content-Type\": \"application/json\",\n",
    "            \"X-goog-api-key\": self.api_key\n",
    "        })\n",
    "        \n",
    "        # 安全配置，防止游戏内容被误拦\n",
    "        self.safety_settings = [\n",
    "            {\"category\": \"HARM_CATEGORY_HARASSMENT\", \"threshold\": \"BLOCK_NONE\"},\n",
    "            {\"category\": \"HARM_CATEGORY_HATE_SPEECH\", \"threshold\": \"BLOCK_NONE\"},\n",
    "            {\"category\": \"HARM_CATEGORY_SEXUALLY_EXPLICIT\", \"threshold\": \"BLOCK_NONE\"},\n",
    "            {\"category\": \"HARM_CATEGORY_DANGEROUS_CONTENT\", \"threshold\": \"BLOCK_NONE\"},\n",
    "        ]\n",
    "        \n",
    "        # 生成配置，使输出更稳定\n",
    "        self.generation_config = {\n",
    "            \"temperature\": 0.3,\n",
    "            \"topP\": 1.0,\n",
    "            \"topK\": 32,\n",
    "            \"maxOutputTokens\": 8192,\n",
    "        }\n",
    "        self.translation_history = []\n",
    "    def _build_prompt_header(self, task_prompt: str, glossary: dict = None) -> str:\n",
    "            \"\"\"\n",
    "            根据任务描述和词汇表构建完整的初始Prompt。\n",
    "            \"\"\"\n",
    "            header = task_prompt\n",
    "            if glossary:\n",
    "                header += \"\\n\\n请严格遵守以下词汇对照表进行翻译，不要自行发挥：\\n\"\n",
    "                header += \"```\\n\"\n",
    "                for eng, chn in glossary.items():\n",
    "                    header += f\"{eng} = {chn}\\n\"\n",
    "                header += \"```\"\n",
    "            return header\n",
    "    def _build_single_prompt(self, task_prompt: str, glossary: dict, text_to_translate: str) -> str:\n",
    "        \"\"\"\n",
    "        将任务指令、词汇表和待翻译内容合并成一个完整的单次请求Prompt。\n",
    "        \"\"\"\n",
    "        # 1. 任务指令\n",
    "        full_prompt = task_prompt\n",
    "        \n",
    "        # 2. 词汇表\n",
    "        if glossary:\n",
    "            full_prompt += \"\\n\\n请严格遵守以下词汇对照表进行翻译，不要自行发挥：\\n\"\n",
    "            full_prompt += \"```json\\n\"\n",
    "            full_prompt += json.dumps(glossary, indent=2, ensure_ascii=False)\n",
    "            full_prompt += \"\\n```\\n\"\n",
    "\n",
    "        # 3. 待翻译内容\n",
    "        full_prompt += \"\\n以下是待翻译的内容：\\n\"\n",
    "        full_prompt += \"```\\n\"\n",
    "        full_prompt += text_to_translate\n",
    "        full_prompt += \"\\n```\"\n",
    "        \n",
    "        return full_prompt\n",
    "    def translate(self, text_to_translate: str) -> str | None:\n",
    "        \"\"\"\n",
    "        发送需要翻译的文本，并返回翻译结果。支持上下文。\n",
    "\n",
    "        :param text_to_translate: 需要翻译的英文文本。\n",
    "        :return: 翻译后的中文文本，或在出错时返回 None。\n",
    "        \"\"\"\n",
    "        if not self.conversation_history:\n",
    "            print(\"[错误] 请先调用 start_new_conversation() 方法初始化会话。\")\n",
    "            return None\n",
    "\n",
    "        # 将新文本加入对话历史\n",
    "        self.conversation_history.append({\n",
    "            \"role\": \"user\",\n",
    "            \"parts\": [{\"text\": text_to_translate}]\n",
    "        })\n",
    "        \n",
    "        payload = {\"contents\": self.conversation_history}\n",
    "        \n",
    "        try:\n",
    "            response = self.session.post(self.api_url, json=payload, timeout=180)\n",
    "            response.raise_for_status()\n",
    "            \n",
    "            response_data = response.json()\n",
    "            \n",
    "            if 'candidates' in response_data and response_data['candidates']:\n",
    "                translated_text = response_data['candidates'][0]['content']['parts'][0]['text']\n",
    "                \n",
    "                # 将模型的回复加入历史，以备后续校对\n",
    "                self.conversation_history.append({\n",
    "                    \"role\": \"model\",\n",
    "                    \"parts\": [{\"text\": translated_text}]\n",
    "                })\n",
    "                return translated_text\n",
    "            else:\n",
    "                print(\"--- [警告] 模型未能提供有效翻译，请检查内容 ---\")\n",
    "                print(\"完整回复:\", response_data)\n",
    "                self.conversation_history.pop() # 移除失败的用户输入\n",
    "                return None\n",
    "                \n",
    "        except requests.exceptions.RequestException as e:\n",
    "            print(f\"发生网络错误: {e}\")\n",
    "            self.conversation_history.pop()\n",
    "            return None\n",
    "\n",
    "    def get_conversation_history(self):\n",
    "        \"\"\"返回当前的对话历史记录，方便调试。\"\"\"\n",
    "        return self.conversation_history\n",
    "        \n",
    "    def start_new_conversation(self, task_prompt: str, glossary: dict = None):\n",
    "        \"\"\"\n",
    "        开始一个新的翻译会话，发送包含任务定义的初始Prompt。\n",
    "\n",
    "        :param task_prompt: 描述翻译任务的初始提示语。\n",
    "        :param glossary: 一个英译中的词汇对照表字典。\n",
    "        \"\"\"\n",
    "        # 清空历史记录，开始新的会话\n",
    "        self.conversation_history = []\n",
    "        \n",
    "        # 1. 构建完整的初始Prompt\n",
    "        initial_prompt = self._build_prompt_header(task_prompt, glossary)\n",
    "        print(\"--- [系统] 初始化会话，发送初始Prompt ---\")\n",
    "        # print(initial_prompt)\n",
    "        print(\"------------------------------------------\")\n",
    "\n",
    "        # 2. 将初始Prompt作为对话的第一条消息\n",
    "        self.conversation_history.append({\n",
    "            \"role\": \"user\",\n",
    "            \"parts\": [{\"text\": initial_prompt}]\n",
    "        })\n",
    "        \n",
    "        # 3. 发送请求并获取模型的确认回复\n",
    "        payload = {\"contents\": self.conversation_history}\n",
    "        try:\n",
    "            response = self.session.post(self.api_url, json=payload, timeout=600)\n",
    "            response.raise_for_status()  # 如果HTTP状态码是4xx或5xx，则抛出异常\n",
    "            \n",
    "            response_data = response.json()\n",
    "            \n",
    "            # 安全地提取回复内容\n",
    "            if 'candidates' in response_data and response_data['candidates']:\n",
    "                model_response_text = response_data['candidates'][0]['content']['parts'][0]['text']\n",
    "                \n",
    "                # 4. 将模型的确认回复也加入历史记录\n",
    "                self.conversation_history.append({\n",
    "                    \"role\": \"model\",\n",
    "                    \"parts\": [{\"text\": model_response_text}]\n",
    "                })\n",
    "                print(f\"--- [Gemini] 会话已建立，模型确认 ---\")\n",
    "                print(model_response_text)\n",
    "                print(\"------------------------------------------\\n\")\n",
    "            else:\n",
    "                # 处理没有有效回复的情况（例如内容被过滤）\n",
    "                print(\"--- [警告] 模型未能提供有效回复，请检查Prompt或API设置 ---\")\n",
    "                print(\"完整回复:\", response_data)\n",
    "                # 从历史记录中移除失败的user prompt，以便重试\n",
    "                self.conversation_history.pop()\n",
    "\n",
    "        except requests.exceptions.RequestException as e:\n",
    "            print(f\"发生网络错误: {e}\")\n",
    "            # 从历史记录中移除失败的user prompt\n",
    "            self.conversation_history.pop()\n",
    "            \n",
    "    def translate_single_shot(self, task_prompt: str, text_to_translate: str, glossary: dict = None) -> str | None:\n",
    "        \"\"\"\n",
    "        在一次API调用中完成翻译任务。\n",
    "\n",
    "        :param task_prompt: 描述翻译任务的初始提示语。\n",
    "        :param text_to_translate: 需要翻译的英文文本。\n",
    "        :param glossary: (可选) 一个英译中的词汇对照表字典。\n",
    "        :return: 翻译后的中文文本，或在出错时返回 None。\n",
    "        \"\"\"\n",
    "        # 构建包含所有信息的单个Prompt\n",
    "        final_prompt = self._build_single_prompt(task_prompt, glossary, text_to_translate)\n",
    "        \n",
    "        # 构建API请求的payload\n",
    "        payload = {\n",
    "            \"contents\": [{\"parts\": [{\"text\": final_prompt}]}],\n",
    "            \"safetySettings\": self.safety_settings,\n",
    "            \"generationConfig\": self.generation_config,\n",
    "        }\n",
    "\n",
    "        print(\"--- [系统] 正在发送单次翻译请求... ---\")\n",
    "        # print(\"--- [调试] 发送的完整Prompt如下: ---\\n\", final_prompt) # 如果需要调试，可以取消此行注释\n",
    "        \n",
    "        try:\n",
    "            response = self.session.post(self.api_url, json=payload, timeout=3000)\n",
    "\n",
    "            if not response.ok:\n",
    "                print(f\"--- [错误] 服务器返回状态码: {response.status_code} ---\")\n",
    "                try:\n",
    "                    error_data = response.json()\n",
    "                    print(\"服务器错误详情:\", json.dumps(error_data, indent=2, ensure_ascii=False))\n",
    "                except json.JSONDecodeError:\n",
    "                    print(\"服务器原始响应:\", response.text)\n",
    "                return None\n",
    "\n",
    "            response.raise_for_status()\n",
    "            \n",
    "            response_data = response.json()\n",
    "            \n",
    "            # 检查响应的有效性\n",
    "            if 'candidates' in response_data and response_data['candidates']:\n",
    "                candidate = response_data['candidates'][0]\n",
    "                if 'finishReason' in candidate and candidate['finishReason'] in ['SAFETY', 'RECITATION']:\n",
    "                    print(f\"--- [错误] 模型生成的内容被阻止，原因: {candidate['finishReason']} ---\")\n",
    "                    print(\"安全评级详情:\", candidate.get('safetyRatings'))\n",
    "                    return None\n",
    "                \n",
    "                translated_text = candidate['content']['parts'][0]['text']\n",
    "                self.translation_history.append(translated_text)\n",
    "                return translated_text\n",
    "            else:\n",
    "                # 检查输入是否被阻止\n",
    "                if 'promptFeedback' in response_data and 'blockReason' in response_data:\n",
    "                    reason = response_data['promptFeedback']['blockReason']\n",
    "                    print(f\"--- [错误] 您的输入内容被安全策略阻止，原因: {reason} ---\")\n",
    "                else:\n",
    "                    print(\"--- [警告] 模型未能提供有效翻译，响应中不包含'candidates'字段 ---\")\n",
    "                    print(\"完整回复:\", response_data)\n",
    "                return None\n",
    "                \n",
    "        except requests.exceptions.HTTPError as http_err:\n",
    "            print(f\"发生HTTP错误: {http_err}\")\n",
    "            return None\n",
    "        except requests.exceptions.RequestException as e:\n",
    "            print(f\"发生网络错误: {e}\")\n",
    "            return None"
   ]
  },
  {
   "cell_type": "markdown",
   "id": "90e8c5dc-2b53-4677-b110-bcae87b200fb",
   "metadata": {},
   "source": [
    "## 初始化翻译器"
   ]
  },
  {
   "cell_type": "code",
   "execution_count": 13,
   "id": "9cf18865-3e4b-4765-bc49-629ce570a4f7",
   "metadata": {
    "execution": {
     "iopub.execute_input": "2025-08-10T16:06:23.883294Z",
     "iopub.status.busy": "2025-08-10T16:06:23.882655Z",
     "iopub.status.idle": "2025-08-10T16:06:23.886856Z",
     "shell.execute_reply": "2025-08-10T16:06:23.886856Z",
     "shell.execute_reply.started": "2025-08-10T16:06:23.883294Z"
    }
   },
   "outputs": [
    {
     "name": "stdout",
     "output_type": "stream",
     "text": [
      "翻译器初始化完成.\n"
     ]
    }
   ],
   "source": [
    "# --- 1. 初始化 ---\n",
    "# 强烈建议从环境变量获取API密钥\n",
    "api_key = os.getenv(\"GEMINI_API_KEY\")\n",
    "if not api_key:\n",
    "    print(\"请设置 GEMINI_API_KEY 环境变量！\")\n",
    "else:\n",
    "    api_key = os.getenv(\"GEMINI_API_KEY\")\n",
    "    proxy_address = os.getenv(\"PROXY_URL\") # 新增：获取代理地址\n",
    "    \n",
    "    translator = translator = GeminiTranslator(api_key=api_key,\n",
    "                                               # proxy=proxy_address\n",
    "                                              )\n",
    "    print(f'翻译器初始化完成.')"
   ]
  },
  {
   "cell_type": "markdown",
   "id": "d3e1bfdc-626a-471c-958e-e9192a932315",
   "metadata": {},
   "source": [
    "## prompt和词汇表配置"
   ]
  },
  {
   "cell_type": "code",
   "execution_count": 16,
   "id": "cc4f8b8b-6b01-4bca-a847-14a31bb0e04b",
   "metadata": {
    "execution": {
     "iopub.execute_input": "2025-08-10T16:06:24.723589Z",
     "iopub.status.busy": "2025-08-10T16:06:24.723589Z",
     "iopub.status.idle": "2025-08-10T16:06:24.726605Z",
     "shell.execute_reply": "2025-08-10T16:06:24.726605Z",
     "shell.execute_reply.started": "2025-08-10T16:06:24.723589Z"
    }
   },
   "outputs": [],
   "source": [
    "# # 读取mod中的翻译对照词汇\n",
    "# en_gamestring = [i.strip() for i in open('../data/gamestring/GameString-enUS.txt').readlines()]\n",
    "# cn_gamestring = [i.strip() for i in open('../data/gamestring/GameString-zhCN.txt',encoding='utf-8').readlines()]\n",
    "# en_gs_map = {j[0]:j[1] for j in [i.split('=') for i in en_gamestring]}\n",
    "# cn_gs_map = {j[0]:j[1] for j in [i.split('=') for i in cn_gamestring]}"
   ]
  },
  {
   "cell_type": "code",
   "execution_count": 18,
   "id": "f25db53f-9ae4-459c-b276-b2fcf8e1964f",
   "metadata": {
    "execution": {
     "iopub.execute_input": "2025-08-10T16:06:24.923614Z",
     "iopub.status.busy": "2025-08-10T16:06:24.923614Z",
     "iopub.status.idle": "2025-08-10T16:06:24.929527Z",
     "shell.execute_reply": "2025-08-10T16:06:24.928372Z",
     "shell.execute_reply.started": "2025-08-10T16:06:24.923614Z"
    }
   },
   "outputs": [],
   "source": [
    "# en_cn_vocab = {en_gs_map[k]:cn_gs_map[k] for k in cn_gs_map}"
   ]
  },
  {
   "cell_type": "code",
   "execution_count": 20,
   "id": "5dd14cd4-1dfc-41f4-b397-c730d2618220",
   "metadata": {
    "execution": {
     "iopub.execute_input": "2025-08-10T16:06:25.180679Z",
     "iopub.status.busy": "2025-08-10T16:06:25.180679Z",
     "iopub.status.idle": "2025-08-10T16:06:25.186324Z",
     "shell.execute_reply": "2025-08-10T16:06:25.186324Z",
     "shell.execute_reply.started": "2025-08-10T16:06:25.180679Z"
    }
   },
   "outputs": [],
   "source": [
    "# --- 2. 定义翻译任务和词汇表 ---\n",
    "# 定义初始Prompt，告诉AI它的角色和任务规则\n",
    "my_task_prompt = \"\"\"\n",
    "我正在进行游戏内的文本汉化工作,其中数据格式为KEY=VALUE其中key为游戏内索引对应文本所用的键,而value则为相应的文本.\n",
    "你现在需要对这样格式的文本进行翻译,有以下几个要求:\n",
    "key必须保持原样,不能做任何修改.\n",
    "value中可能存在控制类的字符,例如</s>,<color>等, 对于这些字符保持原样不要做翻译\n",
    "翻译的结果也需要为KEY=VALUE的形式,其中value为翻译之后的中文内容(包含控制字符不变)\n",
    "翻译之后的条目必须与原始输入的条目在顺序和数目上一致.\n",
    "但是当翻译内容较长时，难免会出现一些控制字符被截断，以至于后面的内容没有被正确的翻译出来。\n",
    "例如以下的内容：\n",
    "```\n",
    "Terrain/Name/Kit@Redstone=Kit@Redstone\n",
    "UI/ArchivePlayCinematic=<h/>PLAY CINEMATIC\n",
    "UI/ArchivePlayMission=<h/>REPLAY\n",
    "UI/Building=Building\n",
    "UI/HarvesterCountMinerals=<img path=\"@@UI/ResourceIconNoBackground0\" alignment=\"AbsoluteMiddle\" width=\"20\" height=\"20\"/> Workers:<c val=\"%colorValue%\"> %current%/%ideal%</c>\n",
    "UI/MercenaryPanelNoSelection=Select a Mercenary\n",
    "UI/Mutating=Improving\n",
    "翻译之后的文本：\n",
    "```\n",
    "```\n",
    "Terrain/Name/Kit@Redstone=Kit@Redstone\n",
    "UI/ArchivePlayCinematic=<h/>播放过场动画\n",
    "UI/ArchivePlayMission=<h/>回放\n",
    "UI/Building=建筑物\n",
    "UI/HarvesterCountMinerals=<img path\n",
    "UI/MercenaryPanelNoSelection=选择一名雇佣兵\n",
    "UI/Mutating=改进中\n",
    "```\n",
    "其中UI/ArchivePlayCinematic部分则缺失了。请注意其中格式问题，在翻译时一定保留这些格式化的字符串。\n",
    "下面将会给出待翻译的文本，请翻译为中文，注意上述问题。\n",
    "\"\"\"\n",
    "\n",
    "# 定义你的专属词汇表，确保关键术语翻译统一\n",
    "# my_glossary = en_cn_vocab"
   ]
  },
  {
   "cell_type": "markdown",
   "id": "3c15f5fa-793a-437f-b819-b890907ea35a",
   "metadata": {},
   "source": [
    "## 测试翻译内容"
   ]
  },
  {
   "cell_type": "code",
   "execution_count": 23,
   "id": "628d8ee6-dc00-4b91-b816-e80bb885b428",
   "metadata": {
    "execution": {
     "iopub.execute_input": "2025-08-10T16:06:26.098114Z",
     "iopub.status.busy": "2025-08-10T16:06:26.098114Z",
     "iopub.status.idle": "2025-08-10T16:06:26.104132Z",
     "shell.execute_reply": "2025-08-10T16:06:26.103624Z",
     "shell.execute_reply.started": "2025-08-10T16:06:26.098114Z"
    }
   },
   "outputs": [],
   "source": [
    "def preprocess_gamestring_text(fpath:str):\n",
    "    file_content = open(fpath,'rb').read()\n",
    "    file_nobom_content = file_content.decode(\"utf-8-sig\").encode(\"utf-8\")\n",
    "    return file_nobom_content.decode('utf-8')"
   ]
  },
  {
   "cell_type": "code",
   "execution_count": 25,
   "id": "7444402c-4ae0-45ca-8acb-7e5783f12ce9",
   "metadata": {
    "execution": {
     "iopub.execute_input": "2025-08-10T16:06:26.283445Z",
     "iopub.status.busy": "2025-08-10T16:06:26.283445Z",
     "iopub.status.idle": "2025-08-10T16:06:26.288352Z",
     "shell.execute_reply": "2025-08-10T16:06:26.286796Z",
     "shell.execute_reply.started": "2025-08-10T16:06:26.283445Z"
    }
   },
   "outputs": [],
   "source": [
    "def postprocess_gamestring_text(gs_text:str):\n",
    "    return gs_text.replace('```','').strip()"
   ]
  },
  {
   "cell_type": "code",
   "execution_count": 27,
   "id": "13a7df47-ecd1-4ff3-b3ff-6f7492917628",
   "metadata": {
    "execution": {
     "iopub.execute_input": "2025-08-10T16:06:26.515475Z",
     "iopub.status.busy": "2025-08-10T16:06:26.515475Z",
     "iopub.status.idle": "2025-08-10T16:06:26.522235Z",
     "shell.execute_reply": "2025-08-10T16:06:26.520968Z",
     "shell.execute_reply.started": "2025-08-10T16:06:26.515475Z"
    }
   },
   "outputs": [],
   "source": [
    "def raw_to_gs_map(raw_str):\n",
    "    content_lst = [i for i in raw_str.split('\\n') if not i == '']\n",
    "    content_split = [i.split('=') for i in content_lst]\n",
    "    return {i[0]:'='.join(i[1:]) for i in content_split}"
   ]
  },
  {
   "cell_type": "code",
   "execution_count": 92,
   "id": "10fee27e-ab5d-4cd4-9c27-5b8f217ae9ca",
   "metadata": {
    "execution": {
     "iopub.execute_input": "2025-08-10T16:11:06.091896Z",
     "iopub.status.busy": "2025-08-10T16:11:06.091896Z",
     "iopub.status.idle": "2025-08-10T16:11:06.098141Z",
     "shell.execute_reply": "2025-08-10T16:11:06.097137Z",
     "shell.execute_reply.started": "2025-08-10T16:11:06.091896Z"
    }
   },
   "outputs": [
    {
     "data": {
      "text/plain": [
       "'Unit is currently stacking shots and will deal 30x more damage in <d ref=\"Unit,ConsulRange,Behavior,ConsulDamageBoostStacker,StackCount - 15\"/> shots.\\r'"
      ]
     },
     "execution_count": 92,
     "metadata": {},
     "output_type": "execute_result"
    }
   ],
   "source": [
    "en_raw_dict['Behavior/Tooltip/ConsulDamageBoostStacker']"
   ]
  },
  {
   "cell_type": "code",
   "execution_count": 94,
   "id": "461ca639-94c2-4481-9822-670fb2080144",
   "metadata": {
    "execution": {
     "iopub.execute_input": "2025-08-10T16:11:12.335562Z",
     "iopub.status.busy": "2025-08-10T16:11:12.335562Z",
     "iopub.status.idle": "2025-08-10T16:11:12.340095Z",
     "shell.execute_reply": "2025-08-10T16:11:12.340095Z",
     "shell.execute_reply.started": "2025-08-10T16:11:12.335562Z"
    }
   },
   "outputs": [
    {
     "data": {
      "text/plain": [
       "'单位当前正在叠加射击，并将在<d ref=\"Unit,ConsulRange,Behavior,ConsulDamageBoostStacker,StackCount - 15\"/>次射击后造成30倍伤害。\\r'"
      ]
     },
     "execution_count": 94,
     "metadata": {},
     "output_type": "execute_result"
    }
   ],
   "source": [
    "cn_raw_dict['Behavior/Tooltip/ConsulDamageBoostStacker']"
   ]
  },
  {
   "cell_type": "markdown",
   "id": "d399e000-5872-48a9-96ac-c9cca15206e7",
   "metadata": {},
   "source": [
    "## 变量设置"
   ]
  },
  {
   "cell_type": "code",
   "execution_count": 30,
   "id": "4a9e5d55-88af-44ba-8a69-508e2298877e",
   "metadata": {
    "execution": {
     "iopub.execute_input": "2025-08-10T16:06:32.428090Z",
     "iopub.status.busy": "2025-08-10T16:06:32.428090Z",
     "iopub.status.idle": "2025-08-10T16:06:32.432939Z",
     "shell.execute_reply": "2025-08-10T16:06:32.432939Z",
     "shell.execute_reply.started": "2025-08-10T16:06:32.428090Z"
    }
   },
   "outputs": [],
   "source": [
    "mod_folder_path = '../data/mods/RebelsofLiberty.SC2Mod/'"
   ]
  },
  {
   "cell_type": "code",
   "execution_count": 32,
   "id": "30c36e00-3401-45d0-8b1c-c5576480aabf",
   "metadata": {
    "execution": {
     "iopub.execute_input": "2025-08-10T16:06:32.648819Z",
     "iopub.status.busy": "2025-08-10T16:06:32.648314Z",
     "iopub.status.idle": "2025-08-10T16:06:32.653233Z",
     "shell.execute_reply": "2025-08-10T16:06:32.652229Z",
     "shell.execute_reply.started": "2025-08-10T16:06:32.648819Z"
    }
   },
   "outputs": [],
   "source": [
    "batch_size = 500"
   ]
  },
  {
   "cell_type": "code",
   "execution_count": 34,
   "id": "2cc0d0f6-68ca-42d9-92eb-d262e2d55554",
   "metadata": {
    "execution": {
     "iopub.execute_input": "2025-08-10T16:06:32.852995Z",
     "iopub.status.busy": "2025-08-10T16:06:32.851995Z",
     "iopub.status.idle": "2025-08-10T16:06:32.857948Z",
     "shell.execute_reply": "2025-08-10T16:06:32.856936Z",
     "shell.execute_reply.started": "2025-08-10T16:06:32.852995Z"
    }
   },
   "outputs": [],
   "source": [
    "base_maps_path = '../data/maps/'\n",
    "base_enus_folder = 'enUS.SC2Data'\n",
    "base_zhcn_folder = 'zhCN.SC2Data'\n",
    "local_folder = 'LocalizedData'\n",
    "gs_fname = 'GameStrings.txt'"
   ]
  },
  {
   "cell_type": "markdown",
   "id": "acd1f6d3-7fa6-4127-b29e-216c412622ad",
   "metadata": {},
   "source": [
    "## MOD文本翻译"
   ]
  },
  {
   "cell_type": "code",
   "execution_count": 37,
   "id": "6d17eb15-5856-4b97-9dd4-cfe274638f6a",
   "metadata": {
    "execution": {
     "iopub.execute_input": "2025-08-10T16:06:36.109944Z",
     "iopub.status.busy": "2025-08-10T16:06:36.108944Z",
     "iopub.status.idle": "2025-08-10T16:06:36.120218Z",
     "shell.execute_reply": "2025-08-10T16:06:36.119213Z",
     "shell.execute_reply.started": "2025-08-10T16:06:36.109944Z"
    }
   },
   "outputs": [],
   "source": [
    "mod_en_raw_content = preprocess_gamestring_text(os.path.join(mod_folder_path,base_enus_folder,local_folder,gs_fname))\n",
    "mod_en_raw_lst = [i.strip() for i in mod_en_raw_content.split('\\r\\n') if not i=='']"
   ]
  },
  {
   "cell_type": "code",
   "execution_count": 39,
   "id": "29def908-49da-42eb-b496-688bb63dd788",
   "metadata": {
    "execution": {
     "iopub.execute_input": "2025-08-10T16:06:36.308175Z",
     "iopub.status.busy": "2025-08-10T16:06:36.306671Z",
     "iopub.status.idle": "2025-08-10T16:06:36.324953Z",
     "shell.execute_reply": "2025-08-10T16:06:36.323450Z",
     "shell.execute_reply.started": "2025-08-10T16:06:36.308175Z"
    }
   },
   "outputs": [],
   "source": [
    "mod_en_raw_dict = {i.split('=')[0]:i.split('=')[1] for i in mod_en_raw_lst}"
   ]
  },
  {
   "cell_type": "markdown",
   "id": "219b3c11-b21c-4f24-8c97-1c84edc4ee2d",
   "metadata": {},
   "source": [
    "### 初始化翻译器第一轮对话"
   ]
  },
  {
   "cell_type": "code",
   "execution_count": 104,
   "id": "76d418bd-8265-4c41-9370-749b8937e75a",
   "metadata": {
    "execution": {
     "iopub.execute_input": "2025-08-10T14:57:34.045228Z",
     "iopub.status.busy": "2025-08-10T14:57:34.045228Z",
     "iopub.status.idle": "2025-08-10T14:57:41.145614Z",
     "shell.execute_reply": "2025-08-10T14:57:41.145614Z",
     "shell.execute_reply.started": "2025-08-10T14:57:34.045228Z"
    },
    "scrolled": true
   },
   "outputs": [
    {
     "name": "stdout",
     "output_type": "stream",
     "text": [
      "--- [系统] 初始化会话，发送初始Prompt ---\n",
      "\n",
      "我正在进行游戏内的文本汉化工作,其中数据格式为KEY=VALUE其中key为游戏内索引对应文本所用的键,而value则为相应的文本.\n",
      "你现在需要对这样格式的文本进行翻译,有以下几个要求:\n",
      "key必须保持原样,不能做任何修改.\n",
      "value中可能存在控制类的字符,例如</s>,<color>等, 对于这些字符保持原样不要做翻译\n",
      "翻译的结果也需要为KEY=VALUE的形式,其中value为翻译之后的中文内容(包含控制字符不变)\n",
      "翻译之后的条目必须与原始输入的条目在顺序和数目上一致.\n",
      "但是当翻译内容较长时，难免会出现一些控制字符被截断，以至于后面的内容没有被正确的翻译出来。\n",
      "例如以下的内容：\n",
      "code\n",
      "Code\n",
      "Terrain/Name/Kit@Redstone=Kit@Redstone\n",
      "UI/ArchivePlayCinematic=<h/>PLAY CINEMATIC\n",
      "UI/ArchivePlayMission=<h/>REPLAY\n",
      "UI/Building=Building\n",
      "UI/HarvesterCountMinerals=<img path=\"@@UI/ResourceIconNoBackground0\" alignment=\"AbsoluteMiddle\" width=\"20\" height=\"20\"/> Workers:<c val=\"%colorValue%\"> %current%/%ideal%</c>\n",
      "UI/MercenaryPanelNoSelection=Select a Mercenary\n",
      "UI/Mutating=Improving\n",
      "UI/Reset_Control=<h/>RESET\n",
      "UI/TeamColor01=Red\n",
      "UI/TeamColor07=Aquamarine\n",
      "UI/TeamColor08=Light Purple\n",
      "翻译之后的文本：\n",
      "code\n",
      "Code\n",
      "Terrain/Name/Kit@Redstone=Kit@Redstone\n",
      "UI/ArchivePlayCinematic=<h/>播放过场动画\n",
      "UI/ArchivePlayMission=<h/>回放\n",
      "UI/Building=建筑物\n",
      "UI/HarvesterCountMinerals=<img path\n",
      "UI/MercenaryPanelNoSelection=选择一名雇佣兵\n",
      "UI/Mutating=改进中\n",
      "UI/Reset_Control=<h/>重置\n",
      "UI/TeamColor01=红色\n",
      "UI/TeamColor07=海蓝宝石\n",
      "UI/TeamColor08=浅紫色\n",
      "其中UI/ArchivePlayCinematic部分则缺失了。\n",
      "现在帮我写一个python的函数，输入内容为英文的原文本，以及中文翻译的对照。帮我找出存在缺失的部分，文本部分一些格式内容通过xml类似的写法来进行格式化（如颜色、字体、占位符等等），你需要对比英文原文和中文文本在这些格式化字符方面是否一致。\n",
      "请给出校对文本的函数。\n",
      "\n",
      "------------------------------------------\n",
      "--- [Gemini] 会话已建立，模型确认 ---\n",
      "```python\n",
      "import re\n",
      "\n",
      "def check_translation(english_text, chinese_text):\n",
      "    \"\"\"\n",
      "    Checks the consistency and completeness of a game text translation.\n",
      "\n",
      "    Args:\n",
      "        english_text: The original English text in KEY=VALUE format.  Each line is a KEY=VALUE pair.\n",
      "        chinese_text: The translated Chinese text in KEY=VALUE format.  Each line is a KEY=VALUE pair.\n",
      "\n",
      "    Returns:\n",
      "        A list of tuples, where each tuple contains:\n",
      "            - The KEY of the entry with inconsistencies.\n",
      "            - A description of the inconsistency found.  \n",
      "            - The original English VALUE.\n",
      "            - The translated Chinese VALUE.\n",
      "    \"\"\"\n",
      "\n",
      "    english_lines = english_text.splitlines()\n",
      "    chinese_lines = chinese_text.splitlines()\n",
      "\n",
      "    if len(english_lines) != len(chinese_lines):\n",
      "        raise ValueError(\"The number of lines in English and Chinese text does not match.\")\n",
      "\n",
      "    errors = []\n",
      "    for i, (english_line, chinese_line) in enumerate(zip(english_lines, chinese_lines)):\n",
      "        try:\n",
      "            english_key, english_value = english_line.split(\"=\", 1)\n",
      "            chinese_key, chinese_value = chinese_line.split(\"=\", 1)\n",
      "\n",
      "            if english_key != chinese_key:\n",
      "                errors.append((english_key, \"Key mismatch!\", english_value, chinese_value))\n",
      "                continue\n",
      "\n",
      "            # Basic tag check (can be expanded for more complex tags)\n",
      "            english_tags = re.findall(r'<[^>]+>', english_value)\n",
      "            chinese_tags = re.findall(r'<[^>]+>', chinese_value)\n",
      "            \n",
      "            if english_tags != chinese_tags:\n",
      "              errors.append((english_key, \"Tag mismatch or truncation!\", english_value, chinese_value))\n",
      "              continue\n",
      "\n",
      "\n",
      "            #Check for potential truncation.  This is a heuristic and might need refinement.\n",
      "            if len(chinese_value) < len(english_value) * 0.8 and '<' not in chinese_value: #Simplified truncation check.  Adjust 0.8 as needed.\n",
      "                errors.append((english_key, \"Potential translation truncation detected!\", english_value, chinese_value))\n",
      "\n",
      "        except ValueError:\n",
      "            errors.append((english_line, \"Line format error!\", english_line, chinese_line))\n",
      "\n",
      "    return errors\n",
      "\n",
      "\n",
      "# Example Usage\n",
      "english_text = \"\"\"\n",
      "Code\n",
      "Terrain/Name/Kit@Redstone=Kit@Redstone\n",
      "UI/ArchivePlayCinematic=<h/>PLAY CINEMATIC\n",
      "UI/ArchivePlayMission=<h/>REPLAY\n",
      "UI/Building=Building\n",
      "UI/HarvesterCountMinerals=<img path=\"@@UI/ResourceIconNoBackground0\" alignment=\"AbsoluteMiddle\" width=\"20\" height=\"20\"/> Workers:<c val=\"%colorValue%\"> %current%/%ideal%</c>\n",
      "UI/MercenaryPanelNoSelection=Select a Mercenary\n",
      "UI/Mutating=Improving\n",
      "UI/Reset_Control=<h/>RESET\n",
      "UI/TeamColor01=Red\n",
      "UI/TeamColor07=Aquamarine\n",
      "UI/TeamColor08=Light Purple\n",
      "\"\"\"\n",
      "\n",
      "chinese_text = \"\"\"\n",
      "Code\n",
      "Terrain/Name/Kit@Redstone=Kit@Redstone\n",
      "UI/ArchivePlayCinematic=<h/>播放过场动画\n",
      "UI/ArchivePlayMission=<h/>回放\n",
      "UI/Building=建筑物\n",
      "UI/HarvesterCountMinerals=<img path\n",
      "UI/MercenaryPanelNoSelection=选择一名雇佣兵\n",
      "UI/Mutating=改进中\n",
      "UI/Reset_Control=<h/>重置\n",
      "UI/TeamColor01=红色\n",
      "UI/TeamColor07=海蓝宝石\n",
      "UI/TeamColor08=浅紫色\n",
      "\"\"\"\n",
      "\n",
      "errors = check_translation(english_text, chinese_text)\n",
      "for key, description, english_val, chinese_val in errors:\n",
      "    print(f\"Error in key '{key}': {description}\")\n",
      "    print(f\"  English: {english_val}\")\n",
      "    print(f\"  Chinese: {chinese_val}\")\n",
      "    print(\"---\")\n",
      "\n",
      "```\n",
      "------------------------------------------\n",
      "\n"
     ]
    }
   ],
   "source": [
    "translator.start_new_conversation(task_prompt=my_task_prompt)"
   ]
  },
  {
   "cell_type": "code",
   "execution_count": 41,
   "id": "bbdbba68-3c78-4d80-8a79-67011892a675",
   "metadata": {
    "execution": {
     "iopub.execute_input": "2025-08-09T06:36:38.364796Z",
     "iopub.status.busy": "2025-08-09T06:36:38.364796Z",
     "iopub.status.idle": "2025-08-09T06:57:08.188549Z",
     "shell.execute_reply": "2025-08-09T06:57:08.188549Z",
     "shell.execute_reply.started": "2025-08-09T06:36:38.364796Z"
    },
    "scrolled": true
   },
   "outputs": [
    {
     "name": "stdout",
     "output_type": "stream",
     "text": [
      "Batch:0 size:500 apply for translation.\n",
      "--- [系统] 正在发送单次翻译请求... ---\n",
      "Respone content parsing and checking missing keys.\n",
      "Missing:1 Merge to result cn dict.\n",
      "Batch:500 size:500 apply for translation.\n",
      "--- [系统] 正在发送单次翻译请求... ---\n",
      "Respone content parsing and checking missing keys.\n",
      "Missing:20 Merge to result cn dict.\n",
      "Batch:1000 size:500 apply for translation.\n",
      "--- [系统] 正在发送单次翻译请求... ---\n",
      "Respone content parsing and checking missing keys.\n",
      "Missing:192 Merge to result cn dict.\n",
      "Batch:1500 size:500 apply for translation.\n",
      "--- [系统] 正在发送单次翻译请求... ---\n",
      "Respone content parsing and checking missing keys.\n",
      "Missing:171 Merge to result cn dict.\n",
      "Batch:2000 size:500 apply for translation.\n",
      "--- [系统] 正在发送单次翻译请求... ---\n",
      "Respone content parsing and checking missing keys.\n",
      "Missing:183 Merge to result cn dict.\n",
      "Batch:2500 size:500 apply for translation.\n",
      "--- [系统] 正在发送单次翻译请求... ---\n",
      "Respone content parsing and checking missing keys.\n",
      "Missing:204 Merge to result cn dict.\n",
      "Batch:3000 size:500 apply for translation.\n",
      "--- [系统] 正在发送单次翻译请求... ---\n",
      "Respone content parsing and checking missing keys.\n",
      "Missing:209 Merge to result cn dict.\n",
      "Batch:3500 size:500 apply for translation.\n",
      "--- [系统] 正在发送单次翻译请求... ---\n",
      "Respone content parsing and checking missing keys.\n",
      "Missing:129 Merge to result cn dict.\n",
      "Batch:4000 size:500 apply for translation.\n",
      "--- [系统] 正在发送单次翻译请求... ---\n",
      "Respone content parsing and checking missing keys.\n",
      "Missing:123 Merge to result cn dict.\n",
      "Batch:4500 size:500 apply for translation.\n",
      "--- [系统] 正在发送单次翻译请求... ---\n",
      "Respone content parsing and checking missing keys.\n",
      "Missing:143 Merge to result cn dict.\n",
      "Batch:5000 size:500 apply for translation.\n",
      "--- [系统] 正在发送单次翻译请求... ---\n",
      "Respone content parsing and checking missing keys.\n",
      "Missing:135 Merge to result cn dict.\n",
      "Batch:5500 size:500 apply for translation.\n",
      "--- [系统] 正在发送单次翻译请求... ---\n",
      "Respone content parsing and checking missing keys.\n",
      "Missing:144 Merge to result cn dict.\n",
      "Batch:6000 size:500 apply for translation.\n",
      "--- [系统] 正在发送单次翻译请求... ---\n",
      "Respone content parsing and checking missing keys.\n",
      "Missing:212 Merge to result cn dict.\n",
      "Batch:6500 size:500 apply for translation.\n",
      "--- [系统] 正在发送单次翻译请求... ---\n",
      "Respone content parsing and checking missing keys.\n",
      "Missing:187 Merge to result cn dict.\n",
      "Batch:7000 size:500 apply for translation.\n",
      "--- [系统] 正在发送单次翻译请求... ---\n",
      "Respone content parsing and checking missing keys.\n",
      "Missing:151 Merge to result cn dict.\n",
      "Batch:7500 size:500 apply for translation.\n",
      "--- [系统] 正在发送单次翻译请求... ---\n",
      "Respone content parsing and checking missing keys.\n",
      "Missing:104 Merge to result cn dict.\n",
      "Batch:8000 size:500 apply for translation.\n",
      "--- [系统] 正在发送单次翻译请求... ---\n",
      "Respone content parsing and checking missing keys.\n",
      "Missing:66 Merge to result cn dict.\n",
      "Batch:8500 size:500 apply for translation.\n",
      "--- [系统] 正在发送单次翻译请求... ---\n",
      "Respone content parsing and checking missing keys.\n",
      "Missing:30 Merge to result cn dict.\n",
      "Batch:9000 size:500 apply for translation.\n",
      "--- [系统] 正在发送单次翻译请求... ---\n",
      "Respone content parsing and checking missing keys.\n",
      "Missing:147 Merge to result cn dict.\n",
      "Batch:9500 size:500 apply for translation.\n",
      "--- [系统] 正在发送单次翻译请求... ---\n",
      "Respone content parsing and checking missing keys.\n",
      "Missing:78 Merge to result cn dict.\n",
      "Batch:10000 size:500 apply for translation.\n",
      "--- [系统] 正在发送单次翻译请求... ---\n",
      "Respone content parsing and checking missing keys.\n",
      "Missing:79 Merge to result cn dict.\n",
      "Batch:10500 size:500 apply for translation.\n",
      "--- [系统] 正在发送单次翻译请求... ---\n",
      "Respone content parsing and checking missing keys.\n",
      "Missing:44 Merge to result cn dict.\n",
      "Batch:11000 size:500 apply for translation.\n",
      "--- [系统] 正在发送单次翻译请求... ---\n",
      "Respone content parsing and checking missing keys.\n",
      "Missing:2 Merge to result cn dict.\n"
     ]
    }
   ],
   "source": [
    "mod_gs_keys = list(mod_en_raw_dict.keys())\n",
    "mod_cn_result_dict = {}\n",
    "missing_keys_inresponse = []\n",
    "for i in range(0,len(mod_en_raw_dict),batch_size):\n",
    "    print(f'Batch:{i} size:{batch_size} apply for translation.')\n",
    "    \n",
    "    keys_for_trans = set(mod_gs_keys[i:i+batch_size])\n",
    "    en_content_for_trans = '\\n'.join([f'{key}={mod_en_raw_dict[key]}' for key in keys_for_trans])\n",
    "    \n",
    "    cn_result_content = translator.translate_single_shot(task_prompt=my_task_prompt,\n",
    "                                                         text_to_translate=en_content_for_trans)\n",
    "\n",
    "    print('Respone content parsing and checking missing keys.')\n",
    "    cn_result_batch_dict = raw_to_gs_map(postprocess_gamestring_text(cn_result_content))\n",
    "\n",
    "    count_missing_key = 0\n",
    "    for postkey in keys_for_trans:\n",
    "        if postkey not in cn_result_batch_dict:\n",
    "            count_missing_key += 1\n",
    "            missing_keys_inresponse.append(postkey)\n",
    "\n",
    "    print(f'Missing:{count_missing_key} Merge to result cn dict.')\n",
    "    mod_cn_result_dict = {**mod_cn_result_dict, ** cn_result_batch_dict}\n",
    "    "
   ]
  },
  {
   "cell_type": "code",
   "execution_count": null,
   "id": "6c65e8c5-95f4-41b0-a2f8-e54ede003ed7",
   "metadata": {},
   "outputs": [],
   "source": []
  },
  {
   "cell_type": "code",
   "execution_count": 65,
   "id": "360e9776-79e3-421b-a486-78a35b78d879",
   "metadata": {
    "execution": {
     "iopub.execute_input": "2025-08-10T16:07:42.315384Z",
     "iopub.status.busy": "2025-08-10T16:07:42.315384Z",
     "iopub.status.idle": "2025-08-10T16:07:42.321843Z",
     "shell.execute_reply": "2025-08-10T16:07:42.320825Z",
     "shell.execute_reply.started": "2025-08-10T16:07:42.315384Z"
    }
   },
   "outputs": [],
   "source": [
    "import re\n",
    "from collections import OrderedDict"
   ]
  },
  {
   "cell_type": "code",
   "execution_count": 106,
   "id": "abcfabd3-5455-4544-ad0d-b8bb2f00f891",
   "metadata": {
    "execution": {
     "iopub.execute_input": "2025-08-10T16:18:06.601763Z",
     "iopub.status.busy": "2025-08-10T16:18:06.601763Z",
     "iopub.status.idle": "2025-08-10T16:18:06.611117Z",
     "shell.execute_reply": "2025-08-10T16:18:06.610648Z",
     "shell.execute_reply.started": "2025-08-10T16:18:06.601763Z"
    }
   },
   "outputs": [],
   "source": [
    "# 辅助函数：解析文本为有序字典 (保持不变)\n",
    "def parse_localization_text(text: str) -> OrderedDict:\n",
    "    \"\"\"\n",
    "    将 KEY=VALUE 格式的文本解析为有序字典。\n",
    "    使用 OrderedDict 来保证条目顺序不变。\n",
    "    \"\"\"\n",
    "    data = OrderedDict()\n",
    "    lines = text.strip().split('\\n')\n",
    "    for line in lines:\n",
    "        if '=' in line:\n",
    "            key, value = line.split('=', 1)\n",
    "            data[key.strip()] = value\n",
    "    return data\n",
    "\n",
    "# 辅助函数：提取所有格式化标签 (保持不变)\n",
    "def extract_tags(value: str) -> list:\n",
    "    \"\"\"\n",
    "    从文本值中提取所有类XML格式的标签。\n",
    "    例如 <h/>, <color=\"red\">, </color>, <img ... />\n",
    "    \"\"\"\n",
    "    tag_pattern = r\"<[^>]+>\"\n",
    "    return re.findall(tag_pattern, value)\n",
    "\n",
    "\n",
    "def find_mismatched_key(original_text: str, translated_text: str) -> list[str]:\n",
    "    \"\"\"\n",
    "    校对原文和译文，并返回所有格式化标签不匹配的条目的Key列表。\n",
    "\n",
    "    :param original_text: 英文原文字符串。\n",
    "    :param translated_text: 中文翻译字符串。\n",
    "    :return: 一个包含所有格式不匹配的Key的列表 (list[str])。\n",
    "    :raises ValueError: 如果原文和译文的Key列表在数量或顺序上不匹配，会抛出此异常。\n",
    "    \"\"\"\n",
    "    mismatched_keys = []\n",
    "    \n",
    "    # 1. 解析原文和译文\n",
    "    original_data = parse_localization_text(original_text)\n",
    "    translated_data = parse_localization_text(translated_text)\n",
    "    \n",
    "    # 2. 检查Key的完整性和顺序，这是后续操作的基础\n",
    "    original_keys = list(original_data.keys())\n",
    "    translated_keys = list(translated_data.keys())\n",
    "    \n",
    "    if original_keys != translated_keys:\n",
    "        # 构造详细的错误信息\n",
    "        missing_keys = set(original_keys) - set(translated_keys)\n",
    "        extra_keys = set(translated_keys) - set(original_keys)\n",
    "        error_msg = \"严重错误：原文和译文的Key列表不匹配，无法进行比较。\"\n",
    "        if missing_keys:\n",
    "            error_msg += f\"\\n  - 译文缺失的Key: {list(missing_keys)}\"\n",
    "            print(error_msg)\n",
    "            return {key:original_data[key] for key in missing_keys}\n",
    "        if extra_keys:\n",
    "            error_msg += f\"\\n  - 译文多出的Key: {list(extra_keys)}\"\n",
    "            print(error_msg)\n",
    "            return {key:original_data[key] for key in extra_keys}\n",
    "        # if not missing_keys and not extra_keys:\n",
    "        #     error_msg += \"\\n  - Key的数量一致，但顺序不一致。\"\n",
    "        # raise ValueError(error_msg)\n",
    "\n",
    "    # 3. 逐条对比格式化标签\n",
    "    for key, original_value in original_data.items():\n",
    "        translated_value = translated_data[key]\n",
    "        \n",
    "        original_tags = extract_tags(original_value)\n",
    "        translated_tags = extract_tags(translated_value)\n",
    "        \n",
    "        # 如果标签列表不匹配\n",
    "        if original_tags != translated_tags:\n",
    "            # 将这个Key添加到结果列表中\n",
    "            mismatched_keys.append(key)\n",
    "            \n",
    "    return {key:original_data[key] for key in mismatched_keys}"
   ]
  },
  {
   "cell_type": "code",
   "execution_count": 198,
   "id": "20b90197-5253-44fb-95c8-85242696cb0b",
   "metadata": {
    "execution": {
     "iopub.execute_input": "2025-08-10T16:31:24.869746Z",
     "iopub.status.busy": "2025-08-10T16:31:24.868745Z",
     "iopub.status.idle": "2025-08-10T16:31:24.886079Z",
     "shell.execute_reply": "2025-08-10T16:31:24.884058Z",
     "shell.execute_reply.started": "2025-08-10T16:31:24.869746Z"
    }
   },
   "outputs": [],
   "source": [
    "en_raw_text = preprocess_gamestring_text('../data/mods/RebelsofLiberty.SC2Mod/enUS.SC2Data/LocalizedData/GameStrings.txt')\n",
    "cn_raw_text = preprocess_gamestring_text('../data/mods/RebelsofLiberty.SC2Mod/zhCN.SC2Data/LocalizedData/GameStrings.txt')"
   ]
  },
  {
   "cell_type": "code",
   "execution_count": 200,
   "id": "7427b488-b9d5-450f-8524-e71adc384bda",
   "metadata": {
    "execution": {
     "iopub.execute_input": "2025-08-10T16:31:25.115758Z",
     "iopub.status.busy": "2025-08-10T16:31:25.115758Z",
     "iopub.status.idle": "2025-08-10T16:31:25.149618Z",
     "shell.execute_reply": "2025-08-10T16:31:25.147615Z",
     "shell.execute_reply.started": "2025-08-10T16:31:25.115758Z"
    }
   },
   "outputs": [],
   "source": [
    "en_raw_dict = raw_to_gs_map(en_raw_text)\n",
    "cn_raw_dict = raw_to_gs_map(cn_raw_text)"
   ]
  },
  {
   "cell_type": "code",
   "execution_count": 202,
   "id": "c1a0545e-b5f1-46f5-b19b-60ac17aee2c3",
   "metadata": {
    "execution": {
     "iopub.execute_input": "2025-08-10T16:31:25.349286Z",
     "iopub.status.busy": "2025-08-10T16:31:25.349286Z",
     "iopub.status.idle": "2025-08-10T16:31:25.356568Z",
     "shell.execute_reply": "2025-08-10T16:31:25.355559Z",
     "shell.execute_reply.started": "2025-08-10T16:31:25.349286Z"
    }
   },
   "outputs": [
    {
     "data": {
      "text/plain": [
       "11389"
      ]
     },
     "execution_count": 202,
     "metadata": {},
     "output_type": "execute_result"
    }
   ],
   "source": [
    "len(cn_raw_dict)"
   ]
  },
  {
   "cell_type": "code",
   "execution_count": 186,
   "id": "14aa710d-a271-4c54-b90c-d8aa9a27e8bf",
   "metadata": {
    "execution": {
     "iopub.execute_input": "2025-08-10T16:30:16.853661Z",
     "iopub.status.busy": "2025-08-10T16:30:16.853661Z",
     "iopub.status.idle": "2025-08-10T16:30:16.876445Z",
     "shell.execute_reply": "2025-08-10T16:30:16.875437Z",
     "shell.execute_reply.started": "2025-08-10T16:30:16.853661Z"
    }
   },
   "outputs": [],
   "source": [
    "cn_raw_dict = raw_to_gs_map(preprocess_gamestring_text('./saved.txt'))"
   ]
  },
  {
   "cell_type": "code",
   "execution_count": 188,
   "id": "382a094a-5699-47cd-b753-f9f24423d7c2",
   "metadata": {
    "execution": {
     "iopub.execute_input": "2025-08-10T16:30:17.966799Z",
     "iopub.status.busy": "2025-08-10T16:30:17.966799Z",
     "iopub.status.idle": "2025-08-10T16:30:17.974770Z",
     "shell.execute_reply": "2025-08-10T16:30:17.973098Z",
     "shell.execute_reply.started": "2025-08-10T16:30:17.966799Z"
    }
   },
   "outputs": [],
   "source": [
    "cn_new_dict = raw_to_gs_map(preprocess_gamestring_text('./missing_text_cn.txt'))"
   ]
  },
  {
   "cell_type": "code",
   "execution_count": 190,
   "id": "39a0a19e-603c-41ba-9c07-63ceea9359cd",
   "metadata": {
    "execution": {
     "iopub.execute_input": "2025-08-10T16:30:18.298993Z",
     "iopub.status.busy": "2025-08-10T16:30:18.298993Z",
     "iopub.status.idle": "2025-08-10T16:30:18.306128Z",
     "shell.execute_reply": "2025-08-10T16:30:18.304115Z",
     "shell.execute_reply.started": "2025-08-10T16:30:18.298993Z"
    }
   },
   "outputs": [],
   "source": [
    "for key in cn_new_dict:\n",
    "    cn_raw_dict[key] = cn_new_dict[key]"
   ]
  },
  {
   "cell_type": "code",
   "execution_count": 204,
   "id": "99501ae5-6872-41d1-8eac-5db97360e191",
   "metadata": {
    "execution": {
     "iopub.execute_input": "2025-08-10T16:31:28.551939Z",
     "iopub.status.busy": "2025-08-10T16:31:28.551939Z",
     "iopub.status.idle": "2025-08-10T16:31:28.603758Z",
     "shell.execute_reply": "2025-08-10T16:31:28.601751Z",
     "shell.execute_reply.started": "2025-08-10T16:31:28.551939Z"
    },
    "scrolled": true
   },
   "outputs": [],
   "source": [
    "formate_mismatched_dict = find_mismatched_key(original_text=en_raw_text, translated_text=cn_raw_text)"
   ]
  },
  {
   "cell_type": "markdown",
   "id": "47669c4d-673c-4518-ae7b-203d64ca98dd",
   "metadata": {},
   "source": [
    "## 处理缺失的key"
   ]
  },
  {
   "cell_type": "code",
   "execution_count": 55,
   "id": "14d5f148-58a9-4684-b1bb-8edadba501ab",
   "metadata": {
    "execution": {
     "iopub.execute_input": "2025-08-10T15:23:01.990885Z",
     "iopub.status.busy": "2025-08-10T15:23:01.989980Z",
     "iopub.status.idle": "2025-08-10T15:23:02.001041Z",
     "shell.execute_reply": "2025-08-10T15:23:02.000301Z",
     "shell.execute_reply.started": "2025-08-10T15:23:01.989980Z"
    },
    "scrolled": true
   },
   "outputs": [],
   "source": [
    "def trans_missing_text(batch_size, missing_keys, en_gs_dict,):\n",
    "    '''\n",
    "    校对翻译的中文内容的key对应英文文本之间格式是否一致\n",
    "    '''\n",
    "    checked_cn_dict = {}\n",
    "    translator.start_new_conversation(task_prompt=my_task_prompt)\n",
    "    \n",
    "    while len(missing_keys)!=0:\n",
    "        print(f'Len:{len(missing_keys)} Checkd:{len(checked_cn_dict)} size:{batch_size} missing keys apply for translation.')\n",
    "        \n",
    "        keys_for_trans = set(missing_keys[0:0+batch_size])\n",
    "        \n",
    "        en_content_for_trans = '\\n'.join([f'{key}={en_gs_dict[key]}' for key in keys_for_trans])\n",
    "        \n",
    "        cn_result_content = translator.translate(en_content_for_trans)\n",
    "        \n",
    "        print('Respone content parsing and checking missing keys.')\n",
    "        print(cn_result_content)\n",
    "        cn_result_batch_dict = raw_to_gs_map(postprocess_gamestring_text(cn_result_content))\n",
    "        print(cn_result_batch_dict)\n",
    "        for key, original_value in en_gs_dict.items():\n",
    "            if not key in cn_result_batch_dict:\n",
    "                continue\n",
    "            translated_value = cn_result_batch_dict[key]\n",
    "            \n",
    "            original_tags = extract_tags(original_value)\n",
    "            translated_tags = extract_tags(translated_value)\n",
    "            \n",
    "            # 如果标签列表不匹配\n",
    "            if original_tags != translated_tags:\n",
    "                # 将这个Key添加到结果列表中\n",
    "                mismatched_keys.append(key)\n",
    "            else:\n",
    "                checked_cn_dict[key] = translated_value\n",
    "            \n",
    "            missing_keys = [i for i in missing_keys if not i in checked_cn_dict]\n",
    "        \n",
    "    return checked_cn_dict"
   ]
  },
  {
   "cell_type": "code",
   "execution_count": 63,
   "id": "9312197b-1f99-4be6-8f91-915d21f14c26",
   "metadata": {
    "execution": {
     "iopub.execute_input": "2025-08-10T15:32:25.821483Z",
     "iopub.status.busy": "2025-08-10T15:32:25.821483Z",
     "iopub.status.idle": "2025-08-10T15:32:25.826050Z",
     "shell.execute_reply": "2025-08-10T15:32:25.825378Z",
     "shell.execute_reply.started": "2025-08-10T15:32:25.821483Z"
    },
    "scrolled": true
   },
   "outputs": [],
   "source": [
    "# trans_missing_text(batch_size=100,missing_keys=list(formate_mismatched_dict.keys()), en_gs_dict=formate_mismatched_dict)"
   ]
  },
  {
   "cell_type": "code",
   "execution_count": 178,
   "id": "1b0911af-8fb5-4601-ac1d-440c48ecae3d",
   "metadata": {
    "execution": {
     "iopub.execute_input": "2025-08-10T16:29:39.665915Z",
     "iopub.status.busy": "2025-08-10T16:29:39.665915Z",
     "iopub.status.idle": "2025-08-10T16:29:39.673053Z",
     "shell.execute_reply": "2025-08-10T16:29:39.671915Z",
     "shell.execute_reply.started": "2025-08-10T16:29:39.665915Z"
    }
   },
   "outputs": [],
   "source": [
    "def write_to_zhcn_local(parent_folder:str,# mod或者map文件夹\n",
    "                       en_gs_dict:dict,\n",
    "                       cn_gs_dict:dict):\n",
    "    # 首先校验key是否存在\n",
    "    for en_key in en_gs_dict:\n",
    "        if not en_key in cn_gs_dict:\n",
    "            print(f'Missing key:{en_key}')\n",
    "    cnzh_path = os.path.join(parent_folder, base_zhcn_folder, local_folder)\n",
    "    os.makedirs(cnzh_path,exist_ok=True)\n",
    "    content = [f'{key}={cn_gs_dict[key]}\\n' for key in en_gs_dict]\n",
    "    with open(os.path.join(cnzh_path, gs_fname),'w',encoding='utf-8') as file:\n",
    "        file.writelines(content)\n",
    "    return True"
   ]
  },
  {
   "cell_type": "code",
   "execution_count": 196,
   "id": "5e0d86c1-799a-4d06-97e3-6d63486688d0",
   "metadata": {
    "execution": {
     "iopub.execute_input": "2025-08-10T16:31:17.535523Z",
     "iopub.status.busy": "2025-08-10T16:31:17.534521Z",
     "iopub.status.idle": "2025-08-10T16:31:17.566861Z",
     "shell.execute_reply": "2025-08-10T16:31:17.564832Z",
     "shell.execute_reply.started": "2025-08-10T16:31:17.535523Z"
    },
    "scrolled": true
   },
   "outputs": [
    {
     "data": {
      "text/plain": [
       "True"
      ]
     },
     "execution_count": 196,
     "metadata": {},
     "output_type": "execute_result"
    }
   ],
   "source": [
    "write_to_zhcn_local('../data/mods/RebelsofLiberty.SC2Mod/',\n",
    "                    en_gs_dict=en_raw_dict,\n",
    "                    cn_gs_dict=cn_raw_dict)"
   ]
  },
  {
   "cell_type": "code",
   "execution_count": 194,
   "id": "61b95ec5-704d-48c2-bdbb-55665aab0b11",
   "metadata": {
    "execution": {
     "iopub.execute_input": "2025-08-10T16:31:15.878151Z",
     "iopub.status.busy": "2025-08-10T16:31:15.878151Z",
     "iopub.status.idle": "2025-08-10T16:31:15.883502Z",
     "shell.execute_reply": "2025-08-10T16:31:15.882433Z",
     "shell.execute_reply.started": "2025-08-10T16:31:15.878151Z"
    }
   },
   "outputs": [],
   "source": [
    "cn_raw_dict['UserData/SceneTypes/CutScene_Name'] = '场景剪辑'"
   ]
  },
  {
   "cell_type": "code",
   "execution_count": 184,
   "id": "7410f7af-3742-40b2-9acf-ccaf78c0cccb",
   "metadata": {
    "execution": {
     "iopub.execute_input": "2025-08-10T16:30:06.781984Z",
     "iopub.status.busy": "2025-08-10T16:30:06.780853Z",
     "iopub.status.idle": "2025-08-10T16:30:06.788008Z",
     "shell.execute_reply": "2025-08-10T16:30:06.786983Z",
     "shell.execute_reply.started": "2025-08-10T16:30:06.781984Z"
    }
   },
   "outputs": [
    {
     "data": {
      "text/plain": [
       "1"
      ]
     },
     "execution_count": 184,
     "metadata": {},
     "output_type": "execute_result"
    }
   ],
   "source": [
    "len(cn_raw_dict)"
   ]
  },
  {
   "cell_type": "markdown",
   "id": "d74e5f64-225d-4261-9e7e-e7460866b5dd",
   "metadata": {},
   "source": [
    "## 地图文本翻译"
   ]
  },
  {
   "cell_type": "code",
   "execution_count": null,
   "id": "0ca646eb-3c31-4724-a247-85f7cbb28cdb",
   "metadata": {
    "execution": {
     "iopub.status.busy": "2025-08-09T06:10:01.324351Z",
     "iopub.status.idle": "2025-08-09T06:10:01.324351Z",
     "shell.execute_reply": "2025-08-09T06:10:01.324351Z",
     "shell.execute_reply.started": "2025-08-09T06:10:01.324351Z"
    },
    "scrolled": true
   },
   "outputs": [],
   "source": [
    "# for map_name in os.listdir(base_maps_path):\n",
    "#     if not '.SC2Map' in map_name:\n",
    "#         continue\n",
    "#     print(f'Translation GameStrings for map:{map_name}.')\n",
    "#     gs_en_raw_text = preprocess_gamestring_text(os.path.join(base_maps_path, map_name, base_enus_folder, local_folder, gs_fname))\n",
    "\n",
    "#     translator = translator = GeminiTranslator(api_key=api_key,\n",
    "#                                                    # proxy=proxy_address\n",
    "#                                                   )\n",
    "#     gs_cn_raw_response = translator.translate_single_shot(task_prompt=my_task_prompt,\n",
    "#                                      text_to_translate=gs_en_raw_text,\n",
    "#                                      glossary=my_glossary)\n",
    "    \n",
    "#     print(f'Translation finished, preparing write out.')\n",
    "#     gs_cn_raw_text = postprocess_gamestring_text(gs_cn_raw_response)\n",
    "    \n",
    "#     # 验证key是否不存在\n",
    "#     result_cn_gs_map = raw_to_gs_map(response_trans_text)\n",
    "    \n",
    "#     origin_en_gs_map = raw_to_gs_map(gs_en_raw_text)\n",
    "\n",
    "#     for key in origin_en_gs_map:\n",
    "#         if not key in result_cn_gs_map:\n",
    "#             print(f'In map {map_name}, key {key} not found in translation content.')\n",
    "\n",
    "#     # 写出文件\n",
    "#     cn_fpath = os.path.join(base_maps_path, map_name, base_zhcn_folder, local_folder, gs_fname)\n",
    "#     cn_gs_content = '\\n'.join([f'{key}={result_cn_gs_map[key]}' for key in origin_en_gs_map if key in result_cn_gs_map])\n",
    "\n",
    "#     with open(cn_fpath,'w',encoding='utf-8') as file:\n",
    "#         file.write(cn_gs_content)\n",
    "        \n",
    "#     waiting_second = random.randint(10,60)\n",
    "#     print(f'Successfully writing out for {map_name} then random waiting for:{waiting_second}second.')\n",
    "#     time.sleep(waiting_second)"
   ]
  },
  {
   "cell_type": "code",
   "execution_count": null,
   "id": "5f4f0ba5-ba58-4739-94cc-beac8869bbb7",
   "metadata": {},
   "outputs": [],
   "source": []
  },
  {
   "cell_type": "code",
   "execution_count": null,
   "id": "162bc54f-89fb-402e-a99c-9926608c5a3f",
   "metadata": {},
   "outputs": [],
   "source": []
  }
 ],
 "metadata": {
  "kernelspec": {
   "display_name": "Python [conda env:base] *",
   "language": "python",
   "name": "conda-base-py"
  },
  "language_info": {
   "codemirror_mode": {
    "name": "ipython",
    "version": 3
   },
   "file_extension": ".py",
   "mimetype": "text/x-python",
   "name": "python",
   "nbconvert_exporter": "python",
   "pygments_lexer": "ipython3",
   "version": "3.12.7"
  },
  "widgets": {
   "application/vnd.jupyter.widget-state+json": {
    "state": {},
    "version_major": 2,
    "version_minor": 0
   }
  }
 },
 "nbformat": 4,
 "nbformat_minor": 5
}
