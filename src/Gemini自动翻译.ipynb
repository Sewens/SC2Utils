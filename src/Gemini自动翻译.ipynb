{
 "cells": [
  {
   "cell_type": "code",
   "execution_count": 3,
   "id": "859f5094-bd44-4bae-be6f-871cd0f2423e",
   "metadata": {
    "execution": {
     "iopub.execute_input": "2025-08-04T09:44:56.580277Z",
     "iopub.status.busy": "2025-08-04T09:44:56.579278Z",
     "iopub.status.idle": "2025-08-04T09:44:56.965171Z",
     "shell.execute_reply": "2025-08-04T09:44:56.964153Z",
     "shell.execute_reply.started": "2025-08-04T09:44:56.580277Z"
    }
   },
   "outputs": [],
   "source": [
    "import os\n",
    "import json\n",
    "import requests\n",
    "import random"
   ]
  },
  {
   "cell_type": "code",
   "execution_count": 4,
   "id": "529e40d5-a12b-4e17-8691-125354b098d7",
   "metadata": {
    "execution": {
     "iopub.execute_input": "2025-08-04T09:44:56.967170Z",
     "iopub.status.busy": "2025-08-04T09:44:56.967170Z",
     "iopub.status.idle": "2025-08-04T09:44:56.971765Z",
     "shell.execute_reply": "2025-08-04T09:44:56.970760Z",
     "shell.execute_reply.started": "2025-08-04T09:44:56.967170Z"
    }
   },
   "outputs": [],
   "source": [
    "import time"
   ]
  },
  {
   "cell_type": "code",
   "execution_count": 7,
   "id": "2fed38ff-0788-4dc8-95a6-7fde7851c50d",
   "metadata": {
    "execution": {
     "iopub.execute_input": "2025-08-04T09:44:57.057179Z",
     "iopub.status.busy": "2025-08-04T09:44:57.057179Z",
     "iopub.status.idle": "2025-08-04T09:44:57.072429Z",
     "shell.execute_reply": "2025-08-04T09:44:57.071402Z",
     "shell.execute_reply.started": "2025-08-04T09:44:57.057179Z"
    }
   },
   "outputs": [],
   "source": [
    "import os\n",
    "from dotenv import load_dotenv\n",
    "\n",
    "def configure_environment(dotenv_path: str = None) -> bool:\n",
    "    \"\"\"\n",
    "    从 .env 文件加载环境变量。\n",
    "\n",
    "    :param dotenv_path: .env 文件的路径。如果为 None，则从当前目录或父目录查找。\n",
    "    :return: 如果成功加载文件则返回 True，否则返回 False。\n",
    "    \"\"\"\n",
    "    # load_dotenv() 会查找 .env 文件并加载其内容到 os.environ\n",
    "    # 如果找到了文件并加载成功，它会返回 True\n",
    "    found = load_dotenv(dotenv_path)\n",
    "    if not found:\n",
    "        print(\"警告: 未找到 .env 文件。请确保该文件存在于项目根目录。\")\n",
    "    return found"
   ]
  },
  {
   "cell_type": "markdown",
   "id": "2bb3c61e-570d-4fa0-93e1-0def1cef88be",
   "metadata": {},
   "source": [
    "## 从本地的env文件中读取环境变量"
   ]
  },
  {
   "cell_type": "code",
   "execution_count": 10,
   "id": "68aed526-3e5e-48d4-bb84-6ad9ac49956e",
   "metadata": {
    "execution": {
     "iopub.execute_input": "2025-08-04T09:44:57.641793Z",
     "iopub.status.busy": "2025-08-04T09:44:57.641793Z",
     "iopub.status.idle": "2025-08-04T09:44:57.649101Z",
     "shell.execute_reply": "2025-08-04T09:44:57.648091Z",
     "shell.execute_reply.started": "2025-08-04T09:44:57.641793Z"
    }
   },
   "outputs": [
    {
     "data": {
      "text/plain": [
       "True"
      ]
     },
     "execution_count": 10,
     "metadata": {},
     "output_type": "execute_result"
    }
   ],
   "source": [
    "configure_environment()"
   ]
  },
  {
   "cell_type": "code",
   "execution_count": 12,
   "id": "f6c29c14-27ea-4bfe-a8da-19d60452bb22",
   "metadata": {
    "execution": {
     "iopub.execute_input": "2025-08-04T09:44:57.911875Z",
     "iopub.status.busy": "2025-08-04T09:44:57.910857Z",
     "iopub.status.idle": "2025-08-04T09:44:57.932927Z",
     "shell.execute_reply": "2025-08-04T09:44:57.931289Z",
     "shell.execute_reply.started": "2025-08-04T09:44:57.911875Z"
    }
   },
   "outputs": [],
   "source": [
    "class GeminiTranslator:\n",
    "    \"\"\"\n",
    "    一个用于与 Google Gemini API 进行单次调用翻译的封装类。\n",
    "    每次调用都是独立的，不维护对话历史。\n",
    "    支持代理和自定义安全设置。\n",
    "    \"\"\"\n",
    "    def __init__(self, api_key: str, model_name: str = \"gemini-1.5-flash-latest\", proxy: str = None):\n",
    "        \"\"\"\n",
    "        初始化翻译器。\n",
    "\n",
    "        :param api_key: 您的 Google Gemini API 密钥。\n",
    "        :param model_name: 要使用的模型名称。\n",
    "        :param proxy: (可选) 本地代理地址，例如 \"socks5h://127.0.0.1:1080\"。\n",
    "        \"\"\"\n",
    "        if not api_key:\n",
    "            raise ValueError(\"API key cannot be empty.\")\n",
    "        self.api_key = api_key\n",
    "        self.model_name = model_name\n",
    "        self.api_url = f\"https://generativelanguage.googleapis.com/v1beta/models/{model_name}:generateContent\"\n",
    "        \n",
    "        # 使用 Session 对象可以复用连接，提高性能\n",
    "        self.session = requests.Session()\n",
    "\n",
    "        if proxy:\n",
    "            proxies = {\"http\": proxy, \"https\": proxy}\n",
    "            self.session.proxies.update(proxies)\n",
    "            print(f\"--- [系统] 已配置代理: {proxy} ---\")\n",
    "\n",
    "        self.session.headers.update({\n",
    "            \"Content-Type\": \"application/json\",\n",
    "            \"X-goog-api-key\": self.api_key\n",
    "        })\n",
    "        \n",
    "        # 安全配置，防止游戏内容被误拦\n",
    "        self.safety_settings = [\n",
    "            {\"category\": \"HARM_CATEGORY_HARASSMENT\", \"threshold\": \"BLOCK_NONE\"},\n",
    "            {\"category\": \"HARM_CATEGORY_HATE_SPEECH\", \"threshold\": \"BLOCK_NONE\"},\n",
    "            {\"category\": \"HARM_CATEGORY_SEXUALLY_EXPLICIT\", \"threshold\": \"BLOCK_NONE\"},\n",
    "            {\"category\": \"HARM_CATEGORY_DANGEROUS_CONTENT\", \"threshold\": \"BLOCK_NONE\"},\n",
    "        ]\n",
    "        \n",
    "        # 生成配置，使输出更稳定\n",
    "        self.generation_config = {\n",
    "            \"temperature\": 0.3,\n",
    "            \"topP\": 1.0,\n",
    "            \"topK\": 32,\n",
    "            \"maxOutputTokens\": 8192,\n",
    "        }\n",
    "        self.translation_history = []\n",
    "\n",
    "    def _build_single_prompt(self, task_prompt: str, glossary: dict, text_to_translate: str) -> str:\n",
    "        \"\"\"\n",
    "        将任务指令、词汇表和待翻译内容合并成一个完整的单次请求Prompt。\n",
    "        \"\"\"\n",
    "        # 1. 任务指令\n",
    "        full_prompt = task_prompt\n",
    "        \n",
    "        # 2. 词汇表\n",
    "        if glossary:\n",
    "            full_prompt += \"\\n\\n请严格遵守以下词汇对照表进行翻译，不要自行发挥：\\n\"\n",
    "            full_prompt += \"```json\\n\"\n",
    "            full_prompt += json.dumps(glossary, indent=2, ensure_ascii=False)\n",
    "            full_prompt += \"\\n```\\n\"\n",
    "\n",
    "        # 3. 待翻译内容\n",
    "        full_prompt += \"\\n以下是待翻译的内容：\\n\"\n",
    "        full_prompt += \"```\\n\"\n",
    "        full_prompt += text_to_translate\n",
    "        full_prompt += \"\\n```\"\n",
    "        \n",
    "        return full_prompt\n",
    "\n",
    "    def translate_single_shot(self, task_prompt: str, text_to_translate: str, glossary: dict = None) -> str | None:\n",
    "        \"\"\"\n",
    "        在一次API调用中完成翻译任务。\n",
    "\n",
    "        :param task_prompt: 描述翻译任务的初始提示语。\n",
    "        :param text_to_translate: 需要翻译的英文文本。\n",
    "        :param glossary: (可选) 一个英译中的词汇对照表字典。\n",
    "        :return: 翻译后的中文文本，或在出错时返回 None。\n",
    "        \"\"\"\n",
    "        # 构建包含所有信息的单个Prompt\n",
    "        final_prompt = self._build_single_prompt(task_prompt, glossary, text_to_translate)\n",
    "        \n",
    "        # 构建API请求的payload\n",
    "        payload = {\n",
    "            \"contents\": [{\"parts\": [{\"text\": final_prompt}]}],\n",
    "            \"safetySettings\": self.safety_settings,\n",
    "            \"generationConfig\": self.generation_config,\n",
    "        }\n",
    "\n",
    "        print(\"--- [系统] 正在发送单次翻译请求... ---\")\n",
    "        # print(\"--- [调试] 发送的完整Prompt如下: ---\\n\", final_prompt) # 如果需要调试，可以取消此行注释\n",
    "        \n",
    "        try:\n",
    "            response = self.session.post(self.api_url, json=payload, timeout=300)\n",
    "\n",
    "            if not response.ok:\n",
    "                print(f\"--- [错误] 服务器返回状态码: {response.status_code} ---\")\n",
    "                try:\n",
    "                    error_data = response.json()\n",
    "                    print(\"服务器错误详情:\", json.dumps(error_data, indent=2, ensure_ascii=False))\n",
    "                except json.JSONDecodeError:\n",
    "                    print(\"服务器原始响应:\", response.text)\n",
    "                return None\n",
    "\n",
    "            response.raise_for_status()\n",
    "            \n",
    "            response_data = response.json()\n",
    "            \n",
    "            # 检查响应的有效性\n",
    "            if 'candidates' in response_data and response_data['candidates']:\n",
    "                candidate = response_data['candidates'][0]\n",
    "                if 'finishReason' in candidate and candidate['finishReason'] in ['SAFETY', 'RECITATION']:\n",
    "                    print(f\"--- [错误] 模型生成的内容被阻止，原因: {candidate['finishReason']} ---\")\n",
    "                    print(\"安全评级详情:\", candidate.get('safetyRatings'))\n",
    "                    return None\n",
    "                \n",
    "                translated_text = candidate['content']['parts'][0]['text']\n",
    "                self.translation_history.append(translated_text)\n",
    "                return translated_text\n",
    "            else:\n",
    "                # 检查输入是否被阻止\n",
    "                if 'promptFeedback' in response_data and 'blockReason' in response_data:\n",
    "                    reason = response_data['promptFeedback']['blockReason']\n",
    "                    print(f\"--- [错误] 您的输入内容被安全策略阻止，原因: {reason} ---\")\n",
    "                else:\n",
    "                    print(\"--- [警告] 模型未能提供有效翻译，响应中不包含'candidates'字段 ---\")\n",
    "                    print(\"完整回复:\", response_data)\n",
    "                return None\n",
    "                \n",
    "        except requests.exceptions.HTTPError as http_err:\n",
    "            print(f\"发生HTTP错误: {http_err}\")\n",
    "            return None\n",
    "        except requests.exceptions.RequestException as e:\n",
    "            print(f\"发生网络错误: {e}\")\n",
    "            return None"
   ]
  },
  {
   "cell_type": "markdown",
   "id": "90e8c5dc-2b53-4677-b110-bcae87b200fb",
   "metadata": {},
   "source": [
    "## 初始化翻译器"
   ]
  },
  {
   "cell_type": "code",
   "execution_count": 15,
   "id": "9cf18865-3e4b-4765-bc49-629ce570a4f7",
   "metadata": {
    "execution": {
     "iopub.execute_input": "2025-08-04T09:44:58.398264Z",
     "iopub.status.busy": "2025-08-04T09:44:58.397282Z",
     "iopub.status.idle": "2025-08-04T09:44:58.405257Z",
     "shell.execute_reply": "2025-08-04T09:44:58.404250Z",
     "shell.execute_reply.started": "2025-08-04T09:44:58.398264Z"
    }
   },
   "outputs": [
    {
     "name": "stdout",
     "output_type": "stream",
     "text": [
      "翻译器初始化完成.\n"
     ]
    }
   ],
   "source": [
    "# --- 1. 初始化 ---\n",
    "# 强烈建议从环境变量获取API密钥\n",
    "api_key = os.getenv(\"GEMINI_API_KEY\")\n",
    "if not api_key:\n",
    "    print(\"请设置 GEMINI_API_KEY 环境变量！\")\n",
    "else:\n",
    "    api_key = os.getenv(\"GEMINI_API_KEY\")\n",
    "    proxy_address = os.getenv(\"PROXY_URL\") # 新增：获取代理地址\n",
    "    \n",
    "    translator = translator = GeminiTranslator(api_key=api_key,\n",
    "                                               # proxy=proxy_address\n",
    "                                              )\n",
    "    print(f'翻译器初始化完成.')"
   ]
  },
  {
   "cell_type": "markdown",
   "id": "d3e1bfdc-626a-471c-958e-e9192a932315",
   "metadata": {},
   "source": [
    "## prompt和词汇表配置"
   ]
  },
  {
   "cell_type": "code",
   "execution_count": 18,
   "id": "cc4f8b8b-6b01-4bca-a847-14a31bb0e04b",
   "metadata": {
    "execution": {
     "iopub.execute_input": "2025-08-04T09:44:58.821095Z",
     "iopub.status.busy": "2025-08-04T09:44:58.820096Z",
     "iopub.status.idle": "2025-08-04T09:44:58.832304Z",
     "shell.execute_reply": "2025-08-04T09:44:58.831121Z",
     "shell.execute_reply.started": "2025-08-04T09:44:58.821095Z"
    }
   },
   "outputs": [],
   "source": [
    "# 读取mod中的翻译对照词汇\n",
    "en_gamestring = [i.strip() for i in open('../data/gamestring/GameString-enUS.txt').readlines()]\n",
    "cn_gamestring = [i.strip() for i in open('../data/gamestring/GameString-zhCN.txt',encoding='utf-8').readlines()]\n",
    "en_gs_map = {j[0]:j[1] for j in [i.split('=') for i in en_gamestring]}\n",
    "cn_gs_map = {j[0]:j[1] for j in [i.split('=') for i in cn_gamestring]}"
   ]
  },
  {
   "cell_type": "code",
   "execution_count": 20,
   "id": "f25db53f-9ae4-459c-b276-b2fcf8e1964f",
   "metadata": {
    "execution": {
     "iopub.execute_input": "2025-08-04T09:44:59.023527Z",
     "iopub.status.busy": "2025-08-04T09:44:59.023527Z",
     "iopub.status.idle": "2025-08-04T09:44:59.030907Z",
     "shell.execute_reply": "2025-08-04T09:44:59.029902Z",
     "shell.execute_reply.started": "2025-08-04T09:44:59.023527Z"
    }
   },
   "outputs": [],
   "source": [
    "en_cn_vocab = {en_gs_map[k]:cn_gs_map[k] for k in cn_gs_map}"
   ]
  },
  {
   "cell_type": "code",
   "execution_count": 22,
   "id": "5dd14cd4-1dfc-41f4-b397-c730d2618220",
   "metadata": {
    "execution": {
     "iopub.execute_input": "2025-08-04T09:44:59.247905Z",
     "iopub.status.busy": "2025-08-04T09:44:59.247905Z",
     "iopub.status.idle": "2025-08-04T09:44:59.252886Z",
     "shell.execute_reply": "2025-08-04T09:44:59.252886Z",
     "shell.execute_reply.started": "2025-08-04T09:44:59.247905Z"
    }
   },
   "outputs": [],
   "source": [
    "# --- 2. 定义翻译任务和词汇表 ---\n",
    "# 定义初始Prompt，告诉AI它的角色和任务规则\n",
    "my_task_prompt = \"\"\"\n",
    "你是一名专业的游戏汉化专家，正在为《星际争霸2》的一个MOD进行本地化工作。\n",
    "你的任务是将我提供的英文文本翻译成简体中文。\n",
    "请严格遵守以下规则：\n",
    "1. 保持原始的数据格式 `key = value` 不变。\n",
    "2. `value` 中可能包含格式控制字符，例如 `</n>`, `<c val=\"...\">`, 等，请务必完整保留这些字符，不要做任何改动。\n",
    "3. 翻译要符合《星际争霸2》的风格，术语要专业、统一。\n",
    "4. 我会提供一个词汇对照表，请务必严格按照它来翻译，不要使用其他译名。\n",
    "\"\"\"\n",
    "\n",
    "# 定义你的专属词汇表，确保关键术语翻译统一\n",
    "my_glossary = en_cn_vocab"
   ]
  },
  {
   "cell_type": "markdown",
   "id": "3c15f5fa-793a-437f-b819-b890907ea35a",
   "metadata": {},
   "source": [
    "## 测试翻译内容"
   ]
  },
  {
   "cell_type": "code",
   "execution_count": 25,
   "id": "628d8ee6-dc00-4b91-b816-e80bb885b428",
   "metadata": {
    "execution": {
     "iopub.execute_input": "2025-08-04T09:44:59.703866Z",
     "iopub.status.busy": "2025-08-04T09:44:59.703866Z",
     "iopub.status.idle": "2025-08-04T09:44:59.709008Z",
     "shell.execute_reply": "2025-08-04T09:44:59.707866Z",
     "shell.execute_reply.started": "2025-08-04T09:44:59.703866Z"
    }
   },
   "outputs": [],
   "source": [
    "def preprocess_gamestring_text(fpath:str):\n",
    "    file_content = open(fpath,encoding='utf-8').read().replace('\\ufeff','')\n",
    "    return file_content"
   ]
  },
  {
   "cell_type": "code",
   "execution_count": 27,
   "id": "7444402c-4ae0-45ca-8acb-7e5783f12ce9",
   "metadata": {
    "execution": {
     "iopub.execute_input": "2025-08-04T09:44:59.921541Z",
     "iopub.status.busy": "2025-08-04T09:44:59.921541Z",
     "iopub.status.idle": "2025-08-04T09:44:59.926531Z",
     "shell.execute_reply": "2025-08-04T09:44:59.925526Z",
     "shell.execute_reply.started": "2025-08-04T09:44:59.921541Z"
    }
   },
   "outputs": [],
   "source": [
    "def postprocess_gamestring_text(gs_text:str):\n",
    "    return gs_text.replace('```','')"
   ]
  },
  {
   "cell_type": "code",
   "execution_count": 29,
   "id": "456ed43a-22a3-4953-b4eb-7a5ef9205293",
   "metadata": {
    "execution": {
     "iopub.execute_input": "2025-08-04T09:45:00.135041Z",
     "iopub.status.busy": "2025-08-04T09:45:00.134056Z",
     "iopub.status.idle": "2025-08-04T09:45:00.139321Z",
     "shell.execute_reply": "2025-08-04T09:45:00.138315Z",
     "shell.execute_reply.started": "2025-08-04T09:45:00.135041Z"
    }
   },
   "outputs": [],
   "source": [
    "# test_en_gs = preprocess_gamestring_text('../data/maps/thorner01.SC2Map/enUS.SC2Data/LocalizedData/GameStrings.txt')\n",
    "\n",
    "# # --- 3. 开始一个新的翻译会话 ---\n",
    "# response_trans_text = translator.translate_single_shot(task_prompt=my_task_prompt,\n",
    "#                                  text_to_translate=test_en_gs,\n",
    "#                                  glossary=my_glossary)\n",
    "\n",
    "# response_trans_text = postprocess_gamestring_text(response_trans_text)"
   ]
  },
  {
   "cell_type": "markdown",
   "id": "690a2eea-d506-4281-a9d9-7fe7f2b35d57",
   "metadata": {},
   "source": [
    "## 验证翻译内容和原始文本的键值对应"
   ]
  },
  {
   "cell_type": "code",
   "execution_count": 32,
   "id": "13a7df47-ecd1-4ff3-b3ff-6f7492917628",
   "metadata": {
    "execution": {
     "iopub.execute_input": "2025-08-04T09:45:00.580137Z",
     "iopub.status.busy": "2025-08-04T09:45:00.580137Z",
     "iopub.status.idle": "2025-08-04T09:45:00.586197Z",
     "shell.execute_reply": "2025-08-04T09:45:00.585189Z",
     "shell.execute_reply.started": "2025-08-04T09:45:00.580137Z"
    }
   },
   "outputs": [],
   "source": [
    "def raw_to_gs_map(raw_str):\n",
    "    content_lst = [i for i in raw_str.split('\\n') if not i == '']\n",
    "    return {i[0]:i[1] for i in [i.split('=') for i in content_lst]}\n",
    "\n",
    "# result_cn_gs_map = raw_to_gs_map(response_trans_text)\n",
    "\n",
    "# origin_en_gs_map = raw_to_gs_map(test_en_gs)"
   ]
  },
  {
   "cell_type": "code",
   "execution_count": 34,
   "id": "6505ee14-2fef-40be-a36f-dd2457316ad3",
   "metadata": {
    "execution": {
     "iopub.execute_input": "2025-08-04T09:45:00.799426Z",
     "iopub.status.busy": "2025-08-04T09:45:00.799426Z",
     "iopub.status.idle": "2025-08-04T09:45:00.804914Z",
     "shell.execute_reply": "2025-08-04T09:45:00.803446Z",
     "shell.execute_reply.started": "2025-08-04T09:45:00.799426Z"
    }
   },
   "outputs": [],
   "source": [
    "# for key in origin_en_gs_map:\n",
    "#     if not key in result_cn_gs_map:\n",
    "#         print(key)"
   ]
  },
  {
   "cell_type": "code",
   "execution_count": null,
   "id": "897a1744-ad7d-4abe-b13a-9340f0b7e2e5",
   "metadata": {},
   "outputs": [],
   "source": []
  },
  {
   "cell_type": "markdown",
   "id": "d74e5f64-225d-4261-9e7e-e7460866b5dd",
   "metadata": {},
   "source": [
    "## 写出文件完成翻译"
   ]
  },
  {
   "cell_type": "code",
   "execution_count": 38,
   "id": "2cc0d0f6-68ca-42d9-92eb-d262e2d55554",
   "metadata": {
    "execution": {
     "iopub.execute_input": "2025-08-04T09:45:01.397873Z",
     "iopub.status.busy": "2025-08-04T09:45:01.397873Z",
     "iopub.status.idle": "2025-08-04T09:45:01.404973Z",
     "shell.execute_reply": "2025-08-04T09:45:01.402855Z",
     "shell.execute_reply.started": "2025-08-04T09:45:01.397873Z"
    }
   },
   "outputs": [],
   "source": [
    "base_maps_path = '../data/maps/'\n",
    "base_enus_folder = 'enUS.SC2Data'\n",
    "base_zhcn_folder = 'zhCN.SC2Data'\n",
    "local_folder = 'LocalizedData'\n",
    "gs_fname = 'GameStrings.txt'"
   ]
  },
  {
   "cell_type": "code",
   "execution_count": 40,
   "id": "0ca646eb-3c31-4724-a247-85f7cbb28cdb",
   "metadata": {
    "execution": {
     "iopub.execute_input": "2025-08-04T09:45:01.626665Z",
     "iopub.status.busy": "2025-08-04T09:45:01.626665Z",
     "iopub.status.idle": "2025-08-04T09:45:17.781550Z",
     "shell.execute_reply": "2025-08-04T09:45:17.780393Z",
     "shell.execute_reply.started": "2025-08-04T09:45:01.626665Z"
    },
    "scrolled": true
   },
   "outputs": [
    {
     "name": "stdout",
     "output_type": "stream",
     "text": [
      "Translation GameStrings for map:tarcade.SC2Map.\n",
      "--- [系统] 正在发送单次翻译请求... ---\n",
      "--- [错误] 服务器返回状态码: 503 ---\n",
      "服务器错误详情: {\n",
      "  \"error\": {\n",
      "    \"code\": 503,\n",
      "    \"message\": \"The model is overloaded. Please try again later.\",\n",
      "    \"status\": \"UNAVAILABLE\"\n",
      "  }\n",
      "}\n",
      "Translation finished, preparing write out.\n"
     ]
    },
    {
     "ename": "AttributeError",
     "evalue": "'NoneType' object has no attribute 'replace'",
     "output_type": "error",
     "traceback": [
      "\u001b[1;31m---------------------------------------------------------------------------\u001b[0m",
      "\u001b[1;31mAttributeError\u001b[0m                            Traceback (most recent call last)",
      "Cell \u001b[1;32mIn[40], line 15\u001b[0m\n\u001b[0;32m     10\u001b[0m gs_cn_raw_response \u001b[38;5;241m=\u001b[39m translator\u001b[38;5;241m.\u001b[39mtranslate_single_shot(task_prompt\u001b[38;5;241m=\u001b[39mmy_task_prompt,\n\u001b[0;32m     11\u001b[0m                                  text_to_translate\u001b[38;5;241m=\u001b[39mgs_en_raw_text,\n\u001b[0;32m     12\u001b[0m                                  glossary\u001b[38;5;241m=\u001b[39mmy_glossary)\n\u001b[0;32m     14\u001b[0m \u001b[38;5;28mprint\u001b[39m(\u001b[38;5;124mf\u001b[39m\u001b[38;5;124m'\u001b[39m\u001b[38;5;124mTranslation finished, preparing write out.\u001b[39m\u001b[38;5;124m'\u001b[39m)\n\u001b[1;32m---> 15\u001b[0m gs_cn_raw_text \u001b[38;5;241m=\u001b[39m postprocess_gamestring_text(gs_cn_raw_response)\n\u001b[0;32m     17\u001b[0m \u001b[38;5;66;03m# 验证key是否不存在\u001b[39;00m\n\u001b[0;32m     18\u001b[0m result_cn_gs_map \u001b[38;5;241m=\u001b[39m raw_to_gs_map(response_trans_text)\n",
      "Cell \u001b[1;32mIn[27], line 2\u001b[0m, in \u001b[0;36mpostprocess_gamestring_text\u001b[1;34m(gs_text)\u001b[0m\n\u001b[0;32m      1\u001b[0m \u001b[38;5;28;01mdef\u001b[39;00m \u001b[38;5;21mpostprocess_gamestring_text\u001b[39m(gs_text:\u001b[38;5;28mstr\u001b[39m):\n\u001b[1;32m----> 2\u001b[0m     \u001b[38;5;28;01mreturn\u001b[39;00m gs_text\u001b[38;5;241m.\u001b[39mreplace(\u001b[38;5;124m'\u001b[39m\u001b[38;5;124m```\u001b[39m\u001b[38;5;124m'\u001b[39m,\u001b[38;5;124m'\u001b[39m\u001b[38;5;124m'\u001b[39m)\n",
      "\u001b[1;31mAttributeError\u001b[0m: 'NoneType' object has no attribute 'replace'"
     ]
    }
   ],
   "source": [
    "for map_name in os.listdir(base_maps_path):\n",
    "    if not '.SC2Map' in map_name:\n",
    "        continue\n",
    "    print(f'Translation GameStrings for map:{map_name}.')\n",
    "    gs_en_raw_text = preprocess_gamestring_text(os.path.join(base_maps_path, map_name, base_enus_folder, local_folder, gs_fname))\n",
    "\n",
    "    translator = translator = GeminiTranslator(api_key=api_key,\n",
    "                                                   # proxy=proxy_address\n",
    "                                                  )\n",
    "    gs_cn_raw_response = translator.translate_single_shot(task_prompt=my_task_prompt,\n",
    "                                     text_to_translate=gs_en_raw_text,\n",
    "                                     glossary=my_glossary)\n",
    "    \n",
    "    print(f'Translation finished, preparing write out.')\n",
    "    gs_cn_raw_text = postprocess_gamestring_text(gs_cn_raw_response)\n",
    "    \n",
    "    # 验证key是否不存在\n",
    "    result_cn_gs_map = raw_to_gs_map(response_trans_text)\n",
    "    \n",
    "    origin_en_gs_map = raw_to_gs_map(gs_en_raw_text)\n",
    "\n",
    "    for key in origin_en_gs_map:\n",
    "        if not key in result_cn_gs_map:\n",
    "            print(f'In map {map_name}, key {key} not found in translation content.')\n",
    "\n",
    "    # 写出文件\n",
    "    cn_fpath = os.path.join(base_maps_path, map_name, base_zhcn_folder, local_folder, gs_fname)\n",
    "    cn_gs_content = '\\n'.join([f'{key}={result_cn_gs_map[key]}' for key in origin_en_gs_map if key in result_cn_gs_map])\n",
    "\n",
    "    with open(cn_fpath,'w',encoding='utf-8') as file:\n",
    "        file.write(cn_gs_content)\n",
    "        \n",
    "    waiting_second = random.randint(10,60)\n",
    "    print(f'Successfully writing out for {map_name} then random waiting for:{waiting_second}second.')\n",
    "    time.sleep(waiting_second)"
   ]
  },
  {
   "cell_type": "code",
   "execution_count": null,
   "id": "5f4f0ba5-ba58-4739-94cc-beac8869bbb7",
   "metadata": {},
   "outputs": [],
   "source": []
  },
  {
   "cell_type": "code",
   "execution_count": null,
   "id": "162bc54f-89fb-402e-a99c-9926608c5a3f",
   "metadata": {},
   "outputs": [],
   "source": []
  }
 ],
 "metadata": {
  "kernelspec": {
   "display_name": "Python [conda env:base] *",
   "language": "python",
   "name": "conda-base-py"
  },
  "language_info": {
   "codemirror_mode": {
    "name": "ipython",
    "version": 3
   },
   "file_extension": ".py",
   "mimetype": "text/x-python",
   "name": "python",
   "nbconvert_exporter": "python",
   "pygments_lexer": "ipython3",
   "version": "3.12.7"
  },
  "widgets": {
   "application/vnd.jupyter.widget-state+json": {
    "state": {},
    "version_major": 2,
    "version_minor": 0
   }
  }
 },
 "nbformat": 4,
 "nbformat_minor": 5
}
