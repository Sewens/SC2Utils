{
 "cells": [
  {
   "cell_type": "code",
   "execution_count": 5,
   "id": "de1bdc36-c0bc-4e7b-a781-baab7c697638",
   "metadata": {
    "execution": {
     "iopub.execute_input": "2025-08-04T04:54:42.052529Z",
     "iopub.status.busy": "2025-08-04T04:54:42.052529Z",
     "iopub.status.idle": "2025-08-04T04:54:42.057040Z",
     "shell.execute_reply": "2025-08-04T04:54:42.056188Z",
     "shell.execute_reply.started": "2025-08-04T04:54:42.052529Z"
    }
   },
   "outputs": [],
   "source": [
    "import os"
   ]
  },
  {
   "cell_type": "code",
   "execution_count": 1,
   "id": "6c3d0ded-0b86-4e0b-a25d-b1984dcf4a6c",
   "metadata": {
    "execution": {
     "iopub.execute_input": "2025-08-04T04:54:26.384168Z",
     "iopub.status.busy": "2025-08-04T04:54:26.384168Z",
     "iopub.status.idle": "2025-08-04T04:54:26.389517Z",
     "shell.execute_reply": "2025-08-04T04:54:26.388644Z",
     "shell.execute_reply.started": "2025-08-04T04:54:26.384168Z"
    }
   },
   "outputs": [],
   "source": [
    "import subprocess\n",
    "from pathlib import Path"
   ]
  },
  {
   "cell_type": "code",
   "execution_count": 3,
   "id": "cb656edd-24bd-42f3-b86d-d16b728db971",
   "metadata": {
    "execution": {
     "iopub.execute_input": "2025-08-04T04:54:27.447164Z",
     "iopub.status.busy": "2025-08-04T04:54:27.446165Z",
     "iopub.status.idle": "2025-08-04T04:54:27.457160Z",
     "shell.execute_reply": "2025-08-04T04:54:27.456451Z",
     "shell.execute_reply.started": "2025-08-04T04:54:27.447164Z"
    }
   },
   "outputs": [],
   "source": [
    "def extract_mpq_archive(editor_path: Path, \n",
    "                        mpq_path: Path, \n",
    "                        output_path: Path, \n",
    "                        file_to_extract: str = \"*\"):\n",
    "    \"\"\"\n",
    "    使用 MPQEditor.exe 解压 MPQ 存档。\n",
    "\n",
    "    :param editor_path: MPQEditor.exe 的完整路径。\n",
    "    :param mpq_path: 要解压的 MPQ 文件的路径。\n",
    "    :param output_path: 文件解压到的目标文件夹。\n",
    "    :param file_to_extract: 要解压的文件名，默认为 '*' (全部文件)。\n",
    "    :return: True 表示成功, False 表示失败。\n",
    "    \"\"\"\n",
    "    # 1. 验证路径和文件是否存在\n",
    "    if not editor_path.is_file():\n",
    "        print(f\"错误: MPQEditor.exe 未找到于 '{editor_path}'\")\n",
    "        return False\n",
    "    if not mpq_path.is_file():\n",
    "        print(f\"错误: MPQ 存档文件未找到于 '{mpq_path}'\")\n",
    "        return False\n",
    "\n",
    "    # 2. 确保输出目录存在，如果不存在则创建\n",
    "    try:\n",
    "        output_path.mkdir(parents=True, exist_ok=True)\n",
    "    except OSError as e:\n",
    "        print(f\"错误: 无法创建输出目录 '{output_path}'. 原因: {e}\")\n",
    "        return False\n",
    "\n",
    "    # 3. 构建命令列表\n",
    "    # 将 Path 对象转换为字符串，因为 subprocess 需要字符串参数\n",
    "    command = [\n",
    "        str(editor_path),\n",
    "        'extract',\n",
    "        str(mpq_path),\n",
    "        file_to_extract,\n",
    "        str(output_path),\n",
    "        '/fp'\n",
    "    ]\n",
    "\n",
    "    print(f\"正在执行命令: {' '.join(command)}\")\n",
    "\n",
    "    try:\n",
    "        # 4. 执行命令并捕获输出\n",
    "        # check=True: 如果返回码非0，则会抛出 CalledProcessError 异常。\n",
    "        # capture_output=True: 捕获 stdout 和 stderr。\n",
    "        # text=True: 将 stdout 和 stderr 解码为文本。\n",
    "        # creationflags=subprocess.CREATE_NO_WINDOW: (仅Windows) 防止弹出命令行窗口。\n",
    "        # 如果你的 MPQEditor 版本会弹出一个GUI窗口，这个标志可能无效。\n",
    "        result = subprocess.run(\n",
    "            command,\n",
    "            check=True,\n",
    "            capture_output=True,\n",
    "            text=True,\n",
    "            encoding='utf-8', # 尝试指定编码以避免乱码\n",
    "            creationflags=getattr(subprocess, 'CREATE_NO_WINDOW', 0) # 兼容非Windows系统\n",
    "        )\n",
    "\n",
    "        print(\"解压成功！\")\n",
    "        print(\"--- MPQEditor 输出 ---\")\n",
    "        print(result.stdout)\n",
    "        print(\"----------------------\")\n",
    "        return True\n",
    "\n",
    "    except FileNotFoundError:\n",
    "        # 如果命令中的可执行文件路径错误，会触发此异常\n",
    "        print(f\"错误: 无法执行命令。请确保 '{editor_path}' 是一个有效的程序路径。\")\n",
    "        return False\n",
    "    except subprocess.CalledProcessError as e:\n",
    "        # 如果程序返回非零退出码，会触发此异常\n",
    "        print(\"解压失败！\")\n",
    "        print(f\"返回码: {e.returncode}\")\n",
    "        print(\"--- STDOUT (标准输出) ---\")\n",
    "        print(e.stdout)\n",
    "        print(\"--- STDERR (标准错误) ---\")\n",
    "        print(e.stderr)\n",
    "        print(\"------------------------\")\n",
    "        return False\n",
    "    except Exception as e:\n",
    "        print(f\"发生未知错误: {e}\")\n",
    "        return False"
   ]
  },
  {
   "cell_type": "code",
   "execution_count": 11,
   "id": "538383f0-12b3-441e-809e-03aa59d1bc03",
   "metadata": {
    "execution": {
     "iopub.execute_input": "2025-08-04T04:57:11.088546Z",
     "iopub.status.busy": "2025-08-04T04:57:11.088546Z",
     "iopub.status.idle": "2025-08-04T04:57:11.093952Z",
     "shell.execute_reply": "2025-08-04T04:57:11.092947Z",
     "shell.execute_reply.started": "2025-08-04T04:57:11.088546Z"
    }
   },
   "outputs": [],
   "source": [
    "base_map_path = 'C:/Users/lawbda/Games/StarCraft II/Maps/Campaign/'"
   ]
  },
  {
   "cell_type": "code",
   "execution_count": 33,
   "id": "9663330f-dfcd-4796-85fc-5195dbe0d3cb",
   "metadata": {
    "execution": {
     "iopub.execute_input": "2025-08-04T05:01:32.701142Z",
     "iopub.status.busy": "2025-08-04T05:01:32.700145Z",
     "iopub.status.idle": "2025-08-04T05:01:36.989813Z",
     "shell.execute_reply": "2025-08-04T05:01:36.988808Z",
     "shell.execute_reply.started": "2025-08-04T05:01:32.701142Z"
    }
   },
   "outputs": [
    {
     "name": "stdout",
     "output_type": "stream",
     "text": [
      "正在执行命令: MPQEditor.exe extract C:\\Users\\lawbda\\Games\\StarCraft II\\Maps\\Campaign\\tarcade.SC2Map * ..\\data\\tarcade.SC2Map /fp\n",
      "解压成功！\n",
      "--- MPQEditor 输出 ---\n",
      "\n",
      "----------------------\n",
      "正在执行命令: MPQEditor.exe extract C:\\Users\\lawbda\\Games\\StarCraft II\\Maps\\Campaign\\thanson01.SC2Map * ..\\data\\thanson01.SC2Map /fp\n",
      "解压成功！\n",
      "--- MPQEditor 输出 ---\n",
      "\n",
      "----------------------\n",
      "正在执行命令: MPQEditor.exe extract C:\\Users\\lawbda\\Games\\StarCraft II\\Maps\\Campaign\\thanson02.SC2Map * ..\\data\\thanson02.SC2Map /fp\n",
      "解压成功！\n",
      "--- MPQEditor 输出 ---\n",
      "\n",
      "----------------------\n",
      "正在执行命令: MPQEditor.exe extract C:\\Users\\lawbda\\Games\\StarCraft II\\Maps\\Campaign\\thanson03a.SC2Map * ..\\data\\thanson03a.SC2Map /fp\n",
      "解压成功！\n",
      "--- MPQEditor 输出 ---\n",
      "\n",
      "----------------------\n",
      "正在执行命令: MPQEditor.exe extract C:\\Users\\lawbda\\Games\\StarCraft II\\Maps\\Campaign\\thanson03b.SC2Map * ..\\data\\thanson03b.SC2Map /fp\n",
      "解压成功！\n",
      "--- MPQEditor 输出 ---\n",
      "\n",
      "----------------------\n",
      "正在执行命令: MPQEditor.exe extract C:\\Users\\lawbda\\Games\\StarCraft II\\Maps\\Campaign\\thorner01.SC2Map * ..\\data\\thorner01.SC2Map /fp\n",
      "解压成功！\n",
      "--- MPQEditor 输出 ---\n",
      "\n",
      "----------------------\n",
      "正在执行命令: MPQEditor.exe extract C:\\Users\\lawbda\\Games\\StarCraft II\\Maps\\Campaign\\thorner02.SC2Map * ..\\data\\thorner02.SC2Map /fp\n",
      "解压成功！\n",
      "--- MPQEditor 输出 ---\n",
      "\n",
      "----------------------\n",
      "正在执行命令: MPQEditor.exe extract C:\\Users\\lawbda\\Games\\StarCraft II\\Maps\\Campaign\\thorner03.SC2Map * ..\\data\\thorner03.SC2Map /fp\n",
      "解压成功！\n",
      "--- MPQEditor 输出 ---\n",
      "\n",
      "----------------------\n",
      "正在执行命令: MPQEditor.exe extract C:\\Users\\lawbda\\Games\\StarCraft II\\Maps\\Campaign\\thorner04.SC2Map * ..\\data\\thorner04.SC2Map /fp\n",
      "解压成功！\n",
      "--- MPQEditor 输出 ---\n",
      "\n",
      "----------------------\n",
      "正在执行命令: MPQEditor.exe extract C:\\Users\\lawbda\\Games\\StarCraft II\\Maps\\Campaign\\thorner05s.SC2Map * ..\\data\\thorner05s.SC2Map /fp\n",
      "解压成功！\n",
      "--- MPQEditor 输出 ---\n",
      "\n",
      "----------------------\n",
      "正在执行命令: MPQEditor.exe extract C:\\Users\\lawbda\\Games\\StarCraft II\\Maps\\Campaign\\traynor01.SC2Map * ..\\data\\traynor01.SC2Map /fp\n",
      "解压成功！\n",
      "--- MPQEditor 输出 ---\n",
      "\n",
      "----------------------\n",
      "正在执行命令: MPQEditor.exe extract C:\\Users\\lawbda\\Games\\StarCraft II\\Maps\\Campaign\\traynor02.SC2Map * ..\\data\\traynor02.SC2Map /fp\n",
      "解压成功！\n",
      "--- MPQEditor 输出 ---\n",
      "\n",
      "----------------------\n",
      "正在执行命令: MPQEditor.exe extract C:\\Users\\lawbda\\Games\\StarCraft II\\Maps\\Campaign\\traynor03.SC2Map * ..\\data\\traynor03.SC2Map /fp\n",
      "解压成功！\n",
      "--- MPQEditor 输出 ---\n",
      "\n",
      "----------------------\n",
      "正在执行命令: MPQEditor.exe extract C:\\Users\\lawbda\\Games\\StarCraft II\\Maps\\Campaign\\tstory01.SC2Map * ..\\data\\tstory01.SC2Map /fp\n",
      "解压成功！\n",
      "--- MPQEditor 输出 ---\n",
      "\n",
      "----------------------\n",
      "正在执行命令: MPQEditor.exe extract C:\\Users\\lawbda\\Games\\StarCraft II\\Maps\\Campaign\\ttosh01.SC2Map * ..\\data\\ttosh01.SC2Map /fp\n",
      "解压成功！\n",
      "--- MPQEditor 输出 ---\n",
      "\n",
      "----------------------\n",
      "正在执行命令: MPQEditor.exe extract C:\\Users\\lawbda\\Games\\StarCraft II\\Maps\\Campaign\\ttosh02.SC2Map * ..\\data\\ttosh02.SC2Map /fp\n",
      "解压成功！\n",
      "--- MPQEditor 输出 ---\n",
      "\n",
      "----------------------\n",
      "正在执行命令: MPQEditor.exe extract C:\\Users\\lawbda\\Games\\StarCraft II\\Maps\\Campaign\\ttosh03a.SC2Map * ..\\data\\ttosh03a.SC2Map /fp\n",
      "解压成功！\n",
      "--- MPQEditor 输出 ---\n",
      "\n",
      "----------------------\n",
      "正在执行命令: MPQEditor.exe extract C:\\Users\\lawbda\\Games\\StarCraft II\\Maps\\Campaign\\ttosh03b.SC2Map * ..\\data\\ttosh03b.SC2Map /fp\n",
      "解压成功！\n",
      "--- MPQEditor 输出 ---\n",
      "\n",
      "----------------------\n",
      "正在执行命令: MPQEditor.exe extract C:\\Users\\lawbda\\Games\\StarCraft II\\Maps\\Campaign\\ttychus01.SC2Map * ..\\data\\ttychus01.SC2Map /fp\n",
      "解压成功！\n",
      "--- MPQEditor 输出 ---\n",
      "\n",
      "----------------------\n",
      "正在执行命令: MPQEditor.exe extract C:\\Users\\lawbda\\Games\\StarCraft II\\Maps\\Campaign\\ttychus02.SC2Map * ..\\data\\ttychus02.SC2Map /fp\n",
      "解压成功！\n",
      "--- MPQEditor 输出 ---\n",
      "\n",
      "----------------------\n",
      "正在执行命令: MPQEditor.exe extract C:\\Users\\lawbda\\Games\\StarCraft II\\Maps\\Campaign\\ttychus03.SC2Map * ..\\data\\ttychus03.SC2Map /fp\n",
      "解压成功！\n",
      "--- MPQEditor 输出 ---\n",
      "\n",
      "----------------------\n",
      "正在执行命令: MPQEditor.exe extract C:\\Users\\lawbda\\Games\\StarCraft II\\Maps\\Campaign\\ttychus04.SC2Map * ..\\data\\ttychus04.SC2Map /fp\n",
      "解压成功！\n",
      "--- MPQEditor 输出 ---\n",
      "\n",
      "----------------------\n",
      "正在执行命令: MPQEditor.exe extract C:\\Users\\lawbda\\Games\\StarCraft II\\Maps\\Campaign\\ttychus05.SC2Map * ..\\data\\ttychus05.SC2Map /fp\n",
      "解压成功！\n",
      "--- MPQEditor 输出 ---\n",
      "\n",
      "----------------------\n",
      "正在执行命令: MPQEditor.exe extract C:\\Users\\lawbda\\Games\\StarCraft II\\Maps\\Campaign\\tvalerian01.SC2Map * ..\\data\\tvalerian01.SC2Map /fp\n",
      "解压成功！\n",
      "--- MPQEditor 输出 ---\n",
      "\n",
      "----------------------\n",
      "正在执行命令: MPQEditor.exe extract C:\\Users\\lawbda\\Games\\StarCraft II\\Maps\\Campaign\\tvalerian02a.SC2Map * ..\\data\\tvalerian02a.SC2Map /fp\n",
      "解压成功！\n",
      "--- MPQEditor 输出 ---\n",
      "\n",
      "----------------------\n",
      "正在执行命令: MPQEditor.exe extract C:\\Users\\lawbda\\Games\\StarCraft II\\Maps\\Campaign\\tvalerian02b.SC2Map * ..\\data\\tvalerian02b.SC2Map /fp\n",
      "解压成功！\n",
      "--- MPQEditor 输出 ---\n",
      "\n",
      "----------------------\n",
      "正在执行命令: MPQEditor.exe extract C:\\Users\\lawbda\\Games\\StarCraft II\\Maps\\Campaign\\tvalerian03.SC2Map * ..\\data\\tvalerian03.SC2Map /fp\n",
      "解压成功！\n",
      "--- MPQEditor 输出 ---\n",
      "\n",
      "----------------------\n",
      "正在执行命令: MPQEditor.exe extract C:\\Users\\lawbda\\Games\\StarCraft II\\Maps\\Campaign\\tzeratul01.SC2Map * ..\\data\\tzeratul01.SC2Map /fp\n",
      "解压成功！\n",
      "--- MPQEditor 输出 ---\n",
      "\n",
      "----------------------\n",
      "正在执行命令: MPQEditor.exe extract C:\\Users\\lawbda\\Games\\StarCraft II\\Maps\\Campaign\\tzeratul02.SC2Map * ..\\data\\tzeratul02.SC2Map /fp\n",
      "解压成功！\n",
      "--- MPQEditor 输出 ---\n",
      "\n",
      "----------------------\n",
      "正在执行命令: MPQEditor.exe extract C:\\Users\\lawbda\\Games\\StarCraft II\\Maps\\Campaign\\tzeratul03.SC2Map * ..\\data\\tzeratul03.SC2Map /fp\n",
      "解压成功！\n",
      "--- MPQEditor 输出 ---\n",
      "\n",
      "----------------------\n",
      "正在执行命令: MPQEditor.exe extract C:\\Users\\lawbda\\Games\\StarCraft II\\Maps\\Campaign\\tzeratul04.SC2Map * ..\\data\\tzeratul04.SC2Map /fp\n",
      "解压成功！\n",
      "--- MPQEditor 输出 ---\n",
      "\n",
      "----------------------\n"
     ]
    }
   ],
   "source": [
    "for fname in os.listdir(base_map_path):\n",
    "    if not fname.endswith('.SC2Map'):\n",
    "        continue\n",
    "    extract_mpq_archive(editor_path=Path('./MPQEditor.exe'),\n",
    "                        mpq_path=Path(os.path.join(base_map_path,fname)),\n",
    "                        output_path=Path(os.path.join('../data',fname))\n",
    "                       )"
   ]
  },
  {
   "cell_type": "code",
   "execution_count": 23,
   "id": "173ad986-b367-481e-b815-896072902c9a",
   "metadata": {
    "execution": {
     "iopub.execute_input": "2025-08-04T04:58:16.709602Z",
     "iopub.status.busy": "2025-08-04T04:58:16.709602Z",
     "iopub.status.idle": "2025-08-04T04:58:16.716217Z",
     "shell.execute_reply": "2025-08-04T04:58:16.715193Z",
     "shell.execute_reply.started": "2025-08-04T04:58:16.709602Z"
    }
   },
   "outputs": [
    {
     "data": {
      "text/plain": [
       "'wotl'"
      ]
     },
     "execution_count": 23,
     "metadata": {},
     "output_type": "execute_result"
    }
   ],
   "source": [
    "fname"
   ]
  },
  {
   "cell_type": "code",
   "execution_count": null,
   "id": "b87b8bf8-b88a-4638-9613-028592fcc460",
   "metadata": {},
   "outputs": [],
   "source": []
  },
  {
   "cell_type": "code",
   "execution_count": null,
   "id": "f5eff1c0-2c78-4714-8e1a-9477a46078ae",
   "metadata": {},
   "outputs": [],
   "source": []
  }
 ],
 "metadata": {
  "kernelspec": {
   "display_name": "Python [conda env:base] *",
   "language": "python",
   "name": "conda-base-py"
  },
  "language_info": {
   "codemirror_mode": {
    "name": "ipython",
    "version": 3
   },
   "file_extension": ".py",
   "mimetype": "text/x-python",
   "name": "python",
   "nbconvert_exporter": "python",
   "pygments_lexer": "ipython3",
   "version": "3.12.7"
  },
  "widgets": {
   "application/vnd.jupyter.widget-state+json": {
    "state": {},
    "version_major": 2,
    "version_minor": 0
   }
  }
 },
 "nbformat": 4,
 "nbformat_minor": 5
}
